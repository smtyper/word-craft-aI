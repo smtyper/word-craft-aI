{
 "nbformat": 4,
 "nbformat_minor": 0,
 "metadata": {
  "colab": {
   "provenance": [],
   "collapsed_sections": [
    "uUapIgvr_o5f",
    "1XEvlmQX_uCr",
    "_pmjEGLE_zFn",
    "NIHiGTkh_2vQ"
   ]
  },
  "kernelspec": {
   "name": "python3",
   "language": "python",
   "display_name": "Python 3 (ipykernel)"
  },
  "language_info": {
   "name": "python"
  }
 },
 "cells": [
  {
   "cell_type": "markdown",
   "source": [
    "![image.png](data:image/png;base64,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)"
   ],
   "metadata": {
    "collapsed": false
   }
  },
  {
   "cell_type": "markdown",
   "source": [
    "## Импорт библиотек"
   ],
   "metadata": {
    "id": "uUapIgvr_o5f"
   }
  },
  {
   "cell_type": "code",
   "execution_count": 1,
   "metadata": {
    "id": "o02M7fW-5dDG",
    "ExecuteTime": {
     "end_time": "2023-12-06T17:42:55.916147100Z",
     "start_time": "2023-12-06T17:42:51.949538700Z"
    }
   },
   "outputs": [
    {
     "name": "stdout",
     "output_type": "stream",
     "text": [
      "WARNING:tensorflow:From C:\\Users\\krll\\Programming\\some_projects\\pythonProject\\venv\\lib\\site-packages\\keras\\src\\losses.py:2976: The name tf.losses.sparse_softmax_cross_entropy is deprecated. Please use tf.compat.v1.losses.sparse_softmax_cross_entropy instead.\n",
      "\n"
     ]
    }
   ],
   "source": [
    "import pandas as pd\n",
    "import numpy as np\n",
    "import matplotlib.pyplot as plt\n",
    "import re\n",
    "from datetime import datetime\n",
    "import json\n",
    "\n",
    "import ipywidgets as widgets\n",
    "from IPython.display import display\n",
    "\n",
    "from keras.models import Sequential\n",
    "from keras.layers import LSTM, Dense, Reshape\n",
    "from keras.utils import plot_model\n",
    "from keras.callbacks import EarlyStopping\n",
    "from keras.models import load_model\n",
    "\n",
    "from sklearn.model_selection import train_test_split"
   ]
  },
  {
   "cell_type": "markdown",
   "source": [
    "## Загрузка датасета"
   ],
   "metadata": {
    "id": "1XEvlmQX_uCr"
   }
  },
  {
   "cell_type": "code",
   "source": [
    "def load_dataset(csv_file_path):\n",
    "  df = pd.read_csv(csv_file_path, header=0, sep = \"\\t\")\n",
    "  words_column = df.iloc[:, 0]\n",
    "  words = [word.lower() for word in words_column.tolist()]\n",
    "\n",
    "  return words"
   ],
   "metadata": {
    "id": "Tklp_mh45-Md",
    "ExecuteTime": {
     "end_time": "2023-12-05T20:01:11.772674100Z",
     "start_time": "2023-12-05T20:01:11.762127600Z"
    }
   },
   "execution_count": 5,
   "outputs": []
  },
  {
   "cell_type": "code",
   "source": [
    "csv_file_path = 'nouns.csv'\n",
    "full_dataset = load_dataset(csv_file_path)\n",
    "\n",
    "print(full_dataset[:10])\n",
    "print(len(full_dataset))"
   ],
   "metadata": {
    "colab": {
     "base_uri": "https://localhost:8080/"
    },
    "id": "CrtU54qj6oSp",
    "outputId": "b1dd0804-2284-4253-c1ed-3c612fe5dcbc",
    "ExecuteTime": {
     "end_time": "2023-12-05T20:01:25.309627Z",
     "start_time": "2023-12-05T20:01:25.111447100Z"
    }
   },
   "execution_count": 6,
   "outputs": [
    {
     "name": "stdout",
     "output_type": "stream",
     "text": [
      "['человек', 'год', 'время', 'рука', 'стать', 'дело', 'раз', 'глаз', 'день', 'жизнь']\n",
      "26982\n"
     ]
    }
   ]
  },
  {
   "cell_type": "markdown",
   "source": [
    "## Анализ датасета"
   ],
   "metadata": {
    "id": "_pmjEGLE_zFn"
   }
  },
  {
   "cell_type": "code",
   "source": [
    "df = pd.DataFrame({'word': full_dataset})\n",
    "df['word_length'] = df['word'].apply(len)\n",
    "df"
   ],
   "metadata": {
    "colab": {
     "base_uri": "https://localhost:8080/",
     "height": 424
    },
    "id": "ziSc8IvN7DmN",
    "outputId": "e5f7e822-985b-4d37-e324-09a79971a713",
    "ExecuteTime": {
     "end_time": "2023-12-05T20:01:27.607873100Z",
     "start_time": "2023-12-05T20:01:27.575842800Z"
    }
   },
   "execution_count": 7,
   "outputs": [
    {
     "data": {
      "text/plain": "              word  word_length\n0          человек            7\n1              год            3\n2            время            5\n3             рука            4\n4            стать            5\n...            ...          ...\n26977      ссыкуха            7\n26978  туроператор           11\n26979      валенок            7\n26980        бабло            5\n26981     бабломёт            8\n\n[26982 rows x 2 columns]",
      "text/html": "<div>\n<style scoped>\n    .dataframe tbody tr th:only-of-type {\n        vertical-align: middle;\n    }\n\n    .dataframe tbody tr th {\n        vertical-align: top;\n    }\n\n    .dataframe thead th {\n        text-align: right;\n    }\n</style>\n<table border=\"1\" class=\"dataframe\">\n  <thead>\n    <tr style=\"text-align: right;\">\n      <th></th>\n      <th>word</th>\n      <th>word_length</th>\n    </tr>\n  </thead>\n  <tbody>\n    <tr>\n      <th>0</th>\n      <td>человек</td>\n      <td>7</td>\n    </tr>\n    <tr>\n      <th>1</th>\n      <td>год</td>\n      <td>3</td>\n    </tr>\n    <tr>\n      <th>2</th>\n      <td>время</td>\n      <td>5</td>\n    </tr>\n    <tr>\n      <th>3</th>\n      <td>рука</td>\n      <td>4</td>\n    </tr>\n    <tr>\n      <th>4</th>\n      <td>стать</td>\n      <td>5</td>\n    </tr>\n    <tr>\n      <th>...</th>\n      <td>...</td>\n      <td>...</td>\n    </tr>\n    <tr>\n      <th>26977</th>\n      <td>ссыкуха</td>\n      <td>7</td>\n    </tr>\n    <tr>\n      <th>26978</th>\n      <td>туроператор</td>\n      <td>11</td>\n    </tr>\n    <tr>\n      <th>26979</th>\n      <td>валенок</td>\n      <td>7</td>\n    </tr>\n    <tr>\n      <th>26980</th>\n      <td>бабло</td>\n      <td>5</td>\n    </tr>\n    <tr>\n      <th>26981</th>\n      <td>бабломёт</td>\n      <td>8</td>\n    </tr>\n  </tbody>\n</table>\n<p>26982 rows × 2 columns</p>\n</div>"
     },
     "execution_count": 7,
     "metadata": {},
     "output_type": "execute_result"
    }
   ]
  },
  {
   "cell_type": "code",
   "source": [
    "plt.hist(df['word_length'], bins=range(1, max(df['word_length']) + 2), align='left', rwidth=0.8)\n",
    "plt.hist(df['word_length'][(df['word_length'] >= 5) & (df['word_length'] <= 10)], bins=range(1, max(df['word_length']) + 2), align='left', rwidth=0.8, color='darkorange')\n",
    "plt.xlabel('Длина слова')\n",
    "plt.ylabel('Количество слов')\n",
    "plt.title('Распределение длины слов в датасете')\n",
    "plt.show()"
   ],
   "metadata": {
    "colab": {
     "base_uri": "https://localhost:8080/",
     "height": 472
    },
    "id": "nL9Kla7y-gGN",
    "outputId": "f248577e-775d-4262-f578-ce8c4bbc3479",
    "ExecuteTime": {
     "end_time": "2023-12-06T11:12:39.427727100Z",
     "start_time": "2023-12-06T11:12:39.285598300Z"
    }
   },
   "execution_count": 254,
   "outputs": [
    {
     "data": {
      "text/plain": "<Figure size 640x480 with 1 Axes>",
      "image/png": "[encoded data removed]"
     },
     "metadata": {},
     "output_type": "display_data"
    }
   ]
  },
  {
   "cell_type": "markdown",
   "source": [
    "## Фильтрация датасета"
   ],
   "metadata": {
    "id": "NIHiGTkh_2vQ"
   }
  },
  {
   "cell_type": "code",
   "source": [
    "min_word_length = 5\n",
    "max_word_length = 10"
   ],
   "metadata": {
    "id": "hNG-8_dUC5Xf",
    "ExecuteTime": {
     "end_time": "2023-12-06T17:44:28.208295700Z",
     "start_time": "2023-12-06T17:44:28.199287700Z"
    }
   },
   "execution_count": 6,
   "outputs": []
  },
  {
   "cell_type": "code",
   "source": [
    "# Ограничивает длину слов, оставляет только слова из букв, убирает дубликаты, исключает слова с одинаковыми подряд идущими символами\n",
    "def filter_dataset(dataset, min_length, max_length):\n",
    "  russian_alphabet_pattern = re.compile('[а-яё]+')\n",
    "  unique_words = set()\n",
    "\n",
    "  for word in dataset:\n",
    "    if (min_length <= len(word) <= max_length and\n",
    "        russian_alphabet_pattern.fullmatch(word) and\n",
    "        word not in unique_words and\n",
    "        not any((char1 == char2) for char1, char2 in zip(word, word[1:]))):\n",
    "      unique_words.add(word)\n",
    "\n",
    "  return list(unique_words)"
   ],
   "metadata": {
    "id": "R7wMgKMPDDGh",
    "ExecuteTime": {
     "end_time": "2023-12-05T22:39:47.137613700Z",
     "start_time": "2023-12-05T22:39:47.125039600Z"
    }
   },
   "execution_count": 149,
   "outputs": []
  },
  {
   "cell_type": "code",
   "source": [
    "dataset = filter_dataset(full_dataset, min_word_length, max_word_length)\n",
    "\n",
    "len(dataset)"
   ],
   "metadata": {
    "colab": {
     "base_uri": "https://localhost:8080/"
    },
    "id": "zLKJO0TI_9hL",
    "outputId": "8cb3b6b2-db90-4c4b-8933-6711f9e571da",
    "ExecuteTime": {
     "end_time": "2023-12-05T22:39:48.795044500Z",
     "start_time": "2023-12-05T22:39:48.754007100Z"
    }
   },
   "execution_count": 150,
   "outputs": [
    {
     "data": {
      "text/plain": "18283"
     },
     "execution_count": 150,
     "metadata": {},
     "output_type": "execute_result"
    }
   ]
  },
  {
   "cell_type": "markdown",
   "source": [
    "## Подготовка данных для модели"
   ],
   "metadata": {
    "id": "HFUl2bLnHLeq"
   }
  },
  {
   "cell_type": "code",
   "source": [
    "alphabet = ' абвгдеёжзийклмнопрстуфхцчшщъыьэюя'"
   ],
   "metadata": {
    "id": "Fm6LaI3cYbzz",
    "ExecuteTime": {
     "end_time": "2023-12-06T17:44:08.255143300Z",
     "start_time": "2023-12-06T17:44:08.240130Z"
    }
   },
   "execution_count": 4,
   "outputs": []
  },
  {
   "cell_type": "code",
   "source": [
    "# Создание входных и выходных данных для нейросети\n",
    "X_data = []\n",
    "y_data = []\n",
    "\n",
    "for word in dataset:\n",
    "    for i in range(1, len(word)):\n",
    "        input_sequence = word[:i]\n",
    "        output_sequence = word[i:]\n",
    "        X_data.append(input_sequence)\n",
    "        y_data.append(output_sequence)"
   ],
   "metadata": {
    "id": "lbMgdUQdYKbq",
    "ExecuteTime": {
     "end_time": "2023-12-05T22:40:01.947046300Z",
     "start_time": "2023-12-05T22:40:01.898001200Z"
    }
   },
   "execution_count": 153,
   "outputs": []
  },
  {
   "cell_type": "code",
   "source": [
    "len(X_data)"
   ],
   "metadata": {
    "colab": {
     "base_uri": "https://localhost:8080/"
    },
    "id": "8OkxsFGTnLoP",
    "outputId": "d8d84a26-6dc4-4b32-d6c0-150c61429d44",
    "ExecuteTime": {
     "end_time": "2023-12-05T22:40:03.052152200Z",
     "start_time": "2023-12-05T22:40:03.043143200Z"
    }
   },
   "execution_count": 154,
   "outputs": [
    {
     "data": {
      "text/plain": "117863"
     },
     "execution_count": 154,
     "metadata": {},
     "output_type": "execute_result"
    }
   ]
  },
  {
   "cell_type": "code",
   "source": [
    "X_data[:9]"
   ],
   "metadata": {
    "colab": {
     "base_uri": "https://localhost:8080/"
    },
    "id": "JOHOlfjsYRcA",
    "outputId": "439474e6-ba4f-4b06-f8ae-fb98756a9a25",
    "ExecuteTime": {
     "end_time": "2023-12-05T22:40:04.609724400Z",
     "start_time": "2023-12-05T22:40:04.598715900Z"
    }
   },
   "execution_count": 155,
   "outputs": [
    {
     "data": {
      "text/plain": "['п', 'па', 'пак', 'пако', 'пакос', 'пакост', 'д', 'до', 'доп']"
     },
     "execution_count": 155,
     "metadata": {},
     "output_type": "execute_result"
    }
   ]
  },
  {
   "cell_type": "code",
   "source": [
    "y_data[:9]"
   ],
   "metadata": {
    "colab": {
     "base_uri": "https://localhost:8080/"
    },
    "id": "1MtqCZYMYcEC",
    "outputId": "d44c7bd4-56f3-432c-924f-6941011f2913",
    "ExecuteTime": {
     "end_time": "2023-12-05T22:40:06.243719200Z",
     "start_time": "2023-12-05T22:40:06.214685100Z"
    }
   },
   "execution_count": 156,
   "outputs": [
    {
     "data": {
      "text/plain": "['акость', 'кость', 'ость', 'сть', 'ть', 'ь', 'опущение', 'пущение', 'ущение']"
     },
     "execution_count": 156,
     "metadata": {},
     "output_type": "execute_result"
    }
   ]
  },
  {
   "cell_type": "code",
   "source": [
    "# Создание словарей для отображения символов в индексы и обратно\n",
    "char_to_index = {char: idx for idx, char in enumerate(alphabet)}\n",
    "index_to_char = {idx: char for idx, char in enumerate(alphabet)}"
   ],
   "metadata": {
    "id": "BycIA-0QYvGW",
    "ExecuteTime": {
     "end_time": "2023-12-06T17:44:13.921298200Z",
     "start_time": "2023-12-06T17:44:13.914292200Z"
    }
   },
   "execution_count": 5,
   "outputs": []
  },
  {
   "cell_type": "code",
   "source": [
    "vector_len = max_word_length - 1\n",
    "vector_len"
   ],
   "metadata": {
    "colab": {
     "base_uri": "https://localhost:8080/"
    },
    "id": "1Wb5E5KcauIZ",
    "outputId": "6a42c550-e068-4c27-f804-bf7c91323019",
    "ExecuteTime": {
     "end_time": "2023-12-06T17:44:31.672446700Z",
     "start_time": "2023-12-06T17:44:31.659435600Z"
    }
   },
   "execution_count": 7,
   "outputs": [
    {
     "data": {
      "text/plain": "9"
     },
     "execution_count": 7,
     "metadata": {},
     "output_type": "execute_result"
    }
   ]
  },
  {
   "cell_type": "code",
   "source": [
    "# Создает one-hot вектор для символа\n",
    "def char_to_one_hot(char):\n",
    "  one_hot_vector = np.zeros(len(alphabet), dtype=int)\n",
    "  if char in alphabet:\n",
    "    one_hot_vector[alphabet.index(char)] = 1\n",
    "\n",
    "  return one_hot_vector.tolist()"
   ],
   "metadata": {
    "id": "tSomPfCFvStu",
    "ExecuteTime": {
     "end_time": "2023-12-06T17:45:21.032351600Z",
     "start_time": "2023-12-06T17:45:21.019339600Z"
    }
   },
   "execution_count": 13,
   "outputs": []
  },
  {
   "cell_type": "code",
   "source": [
    "# Создает матричное представление для слова\n",
    "def word_to_vector(word):\n",
    "  padded_word = word.ljust(vector_len, ' ')\n",
    "\n",
    "  return [char_to_one_hot(char) for char in padded_word]"
   ],
   "metadata": {
    "id": "NKoY1qw0fH1I",
    "ExecuteTime": {
     "end_time": "2023-12-06T17:45:23.470569Z",
     "start_time": "2023-12-06T17:45:23.454554700Z"
    }
   },
   "execution_count": 14,
   "outputs": []
  },
  {
   "cell_type": "code",
   "source": [
    "# Преобразование входных и выходных данных в матричный формат\n",
    "X_encoded = [word_to_vector(word_beginning) for word_beginning in X_data]\n",
    "y_encoded = [word_to_vector(word_continuation) for word_continuation in y_data]\n",
    "\n",
    "X_encoded = np.array(X_encoded)\n",
    "y_encoded = np.array(y_encoded)"
   ],
   "metadata": {
    "id": "UABJO8f9lT7I",
    "ExecuteTime": {
     "end_time": "2023-12-05T22:40:21.144597600Z",
     "start_time": "2023-12-05T22:40:13.400553500Z"
    }
   },
   "execution_count": 161,
   "outputs": []
  },
  {
   "cell_type": "code",
   "source": [
    "print(X_encoded[3])\n",
    "print(X_encoded[3].shape)"
   ],
   "metadata": {
    "colab": {
     "base_uri": "https://localhost:8080/"
    },
    "id": "WIlKNlujlsCM",
    "outputId": "2e4092ba-5be1-4f8d-d441-4c805ae8ae98",
    "ExecuteTime": {
     "end_time": "2023-12-05T22:40:26.222612900Z",
     "start_time": "2023-12-05T22:40:26.218608600Z"
    }
   },
   "execution_count": 163,
   "outputs": [
    {
     "name": "stdout",
     "output_type": "stream",
     "text": [
      "[[0 0 0 0 0 0 0 0 0 0 0 0 0 0 0 0 0 1 0 0 0 0 0 0 0 0 0 0 0 0 0 0 0 0]\n",
      " [0 1 0 0 0 0 0 0 0 0 0 0 0 0 0 0 0 0 0 0 0 0 0 0 0 0 0 0 0 0 0 0 0 0]\n",
      " [0 0 0 0 0 0 0 0 0 0 0 0 1 0 0 0 0 0 0 0 0 0 0 0 0 0 0 0 0 0 0 0 0 0]\n",
      " [0 0 0 0 0 0 0 0 0 0 0 0 0 0 0 0 1 0 0 0 0 0 0 0 0 0 0 0 0 0 0 0 0 0]\n",
      " [1 0 0 0 0 0 0 0 0 0 0 0 0 0 0 0 0 0 0 0 0 0 0 0 0 0 0 0 0 0 0 0 0 0]\n",
      " [1 0 0 0 0 0 0 0 0 0 0 0 0 0 0 0 0 0 0 0 0 0 0 0 0 0 0 0 0 0 0 0 0 0]\n",
      " [1 0 0 0 0 0 0 0 0 0 0 0 0 0 0 0 0 0 0 0 0 0 0 0 0 0 0 0 0 0 0 0 0 0]\n",
      " [1 0 0 0 0 0 0 0 0 0 0 0 0 0 0 0 0 0 0 0 0 0 0 0 0 0 0 0 0 0 0 0 0 0]\n",
      " [1 0 0 0 0 0 0 0 0 0 0 0 0 0 0 0 0 0 0 0 0 0 0 0 0 0 0 0 0 0 0 0 0 0]]\n",
      "(9, 34)\n"
     ]
    }
   ]
  },
  {
   "cell_type": "code",
   "execution_count": 182,
   "outputs": [
    {
     "name": "stdout",
     "output_type": "stream",
     "text": [
      "Train: 106076\n",
      "Test: 11787\n"
     ]
    }
   ],
   "source": [
    "# Деление на тренировачную и валидационную выборки\n",
    "X_train, X_test, y_train, y_test = train_test_split(X_encoded, y_encoded, test_size=0.1)\n",
    "\n",
    "X_train = np.array(X_train)\n",
    "X_test = np.array(X_test)\n",
    "\n",
    "y_train = np.array(y_train)\n",
    "y_test = np.array(y_test)\n",
    "\n",
    "print(f'Train: {len(X_train)}')\n",
    "print(f'Test: {len(X_test)}')"
   ],
   "metadata": {
    "collapsed": false,
    "ExecuteTime": {
     "end_time": "2023-12-05T23:13:26.580606500Z",
     "start_time": "2023-12-05T23:13:26.423464200Z"
    }
   }
  },
  {
   "cell_type": "markdown",
   "source": [
    "## Создание модели генератора"
   ],
   "metadata": {
    "id": "PQ911Nh-AOzr"
   }
  },
  {
   "cell_type": "code",
   "source": [
    "# Создание модели\n",
    "model = Sequential()\n",
    "model.add(LSTM(50, input_shape=(vector_len, len(alphabet)), return_sequences=True))\n",
    "model.add(LSTM(50))\n",
    "model.add(Dense(vector_len*len(alphabet), activation=\"softmax\"))\n",
    "model.add(Reshape((vector_len, len(alphabet))))\n",
    "\n",
    "# Компиляция модели\n",
    "model.compile(loss='categorical_crossentropy', optimizer='adam', metrics=['accuracy'])"
   ],
   "metadata": {
    "id": "6xzYzu79ZUFv",
    "ExecuteTime": {
     "end_time": "2023-12-06T10:10:24.366687100Z",
     "start_time": "2023-12-06T10:10:24.090435200Z"
    }
   },
   "execution_count": 232,
   "outputs": []
  },
  {
   "cell_type": "code",
   "source": [
    "plot_model(model, show_shapes=True, show_layer_names=True)"
   ],
   "metadata": {
    "colab": {
     "base_uri": "https://localhost:8080/",
     "height": 754
    },
    "id": "n_bS5X5aZXp4",
    "outputId": "f890a3a1-2e1f-4020-a9c4-fa8600c3dbe5",
    "ExecuteTime": {
     "end_time": "2023-12-06T11:12:43.531460300Z",
     "start_time": "2023-12-06T11:12:43.179139500Z"
    }
   },
   "execution_count": 255,
   "outputs": [
    {
     "data": {
      "image/png": "[encoded data removed]",
      "text/plain": "<IPython.core.display.Image object>"
     },
     "execution_count": 255,
     "metadata": {},
     "output_type": "execute_result"
    }
   ]
  },
  {
   "cell_type": "markdown",
   "source": [
    "## Обучение модели"
   ],
   "metadata": {
    "id": "W1fzj10gENX-"
   }
  },
  {
   "cell_type": "code",
   "source": [
    "# Обучение модели\n",
    "early_stopping = EarlyStopping(monitor='accuracy', patience=5)\n",
    "history = model.fit(X_train, y_train, epochs=500, batch_size=32, validation_data=(X_test, y_test), callbacks=[early_stopping])\n",
    "\n",
    "current_datetime = datetime.now().strftime(\"%Y%m%d_%H%M%S\")\n",
    "model.save(f'generator_{current_datetime}.keras', overwrite=True)"
   ],
   "metadata": {
    "colab": {
     "base_uri": "https://localhost:8080/"
    },
    "id": "jVrC5OUQxLyf",
    "outputId": "ef1313ef-c9d9-4d81-9ca3-216ae99b8bcd",
    "ExecuteTime": {
     "end_time": "2023-12-06T10:42:16.392252200Z",
     "start_time": "2023-12-06T10:10:28.798719500Z"
    }
   },
   "execution_count": 234,
   "outputs": [
    {
     "name": "stdout",
     "output_type": "stream",
     "text": [
      "Epoch 1/500\n",
      "3315/3315 [==============================] - 14s 4ms/step - loss: 1.6259 - accuracy: 0.5826 - val_loss: 1.5377 - val_accuracy: 0.5883\n",
      "Epoch 2/500\n",
      "3315/3315 [==============================] - 12s 4ms/step - loss: 1.5245 - accuracy: 0.5909 - val_loss: 1.5208 - val_accuracy: 0.5903\n",
      "Epoch 3/500\n",
      "3315/3315 [==============================] - 11s 3ms/step - loss: 1.4927 - accuracy: 0.5967 - val_loss: 1.4756 - val_accuracy: 0.5985\n",
      "Epoch 4/500\n",
      "3315/3315 [==============================] - 11s 3ms/step - loss: 1.4570 - accuracy: 0.6033 - val_loss: 1.4558 - val_accuracy: 0.6028\n",
      "Epoch 5/500\n",
      "3315/3315 [==============================] - 11s 3ms/step - loss: 1.4416 - accuracy: 0.6064 - val_loss: 1.4437 - val_accuracy: 0.6051\n",
      "Epoch 6/500\n",
      "3315/3315 [==============================] - 11s 3ms/step - loss: 1.4291 - accuracy: 0.6089 - val_loss: 1.4315 - val_accuracy: 0.6083\n",
      "Epoch 7/500\n",
      "3315/3315 [==============================] - 11s 3ms/step - loss: 1.4167 - accuracy: 0.6112 - val_loss: 1.4208 - val_accuracy: 0.6098\n",
      "Epoch 8/500\n",
      "3315/3315 [==============================] - 12s 4ms/step - loss: 1.4070 - accuracy: 0.6130 - val_loss: 1.4122 - val_accuracy: 0.6117\n",
      "Epoch 9/500\n",
      "3315/3315 [==============================] - 11s 3ms/step - loss: 1.3990 - accuracy: 0.6143 - val_loss: 1.4072 - val_accuracy: 0.6122\n",
      "Epoch 10/500\n",
      "3315/3315 [==============================] - 11s 3ms/step - loss: 1.3922 - accuracy: 0.6158 - val_loss: 1.4004 - val_accuracy: 0.6130\n",
      "Epoch 11/500\n",
      "3315/3315 [==============================] - 11s 3ms/step - loss: 1.3863 - accuracy: 0.6172 - val_loss: 1.3969 - val_accuracy: 0.6150\n",
      "Epoch 12/500\n",
      "3315/3315 [==============================] - 11s 3ms/step - loss: 1.3816 - accuracy: 0.6179 - val_loss: 1.3927 - val_accuracy: 0.6153\n",
      "Epoch 13/500\n",
      "3315/3315 [==============================] - 11s 3ms/step - loss: 1.3771 - accuracy: 0.6188 - val_loss: 1.3910 - val_accuracy: 0.6162\n",
      "Epoch 14/500\n",
      "3315/3315 [==============================] - 11s 3ms/step - loss: 1.3732 - accuracy: 0.6195 - val_loss: 1.3896 - val_accuracy: 0.6170\n",
      "Epoch 15/500\n",
      "3315/3315 [==============================] - 11s 3ms/step - loss: 1.3696 - accuracy: 0.6202 - val_loss: 1.3864 - val_accuracy: 0.6174\n",
      "Epoch 16/500\n",
      "3315/3315 [==============================] - 11s 3ms/step - loss: 1.3663 - accuracy: 0.6209 - val_loss: 1.3830 - val_accuracy: 0.6174\n",
      "Epoch 17/500\n",
      "3315/3315 [==============================] - 11s 3ms/step - loss: 1.3632 - accuracy: 0.6212 - val_loss: 1.3866 - val_accuracy: 0.6176\n",
      "Epoch 18/500\n",
      "3315/3315 [==============================] - 11s 3ms/step - loss: 1.3602 - accuracy: 0.6219 - val_loss: 1.3811 - val_accuracy: 0.6184\n",
      "Epoch 19/500\n",
      "3315/3315 [==============================] - 11s 3ms/step - loss: 1.3574 - accuracy: 0.6226 - val_loss: 1.3792 - val_accuracy: 0.6191\n",
      "Epoch 20/500\n",
      "3315/3315 [==============================] - 12s 3ms/step - loss: 1.3550 - accuracy: 0.6229 - val_loss: 1.3771 - val_accuracy: 0.6189\n",
      "Epoch 21/500\n",
      "3315/3315 [==============================] - 12s 4ms/step - loss: 1.3523 - accuracy: 0.6233 - val_loss: 1.3764 - val_accuracy: 0.6179\n",
      "Epoch 22/500\n",
      "3315/3315 [==============================] - 11s 3ms/step - loss: 1.3498 - accuracy: 0.6239 - val_loss: 1.3758 - val_accuracy: 0.6186\n",
      "Epoch 23/500\n",
      "3315/3315 [==============================] - 11s 3ms/step - loss: 1.3476 - accuracy: 0.6242 - val_loss: 1.3753 - val_accuracy: 0.6193\n",
      "Epoch 24/500\n",
      "3315/3315 [==============================] - 12s 4ms/step - loss: 1.3455 - accuracy: 0.6246 - val_loss: 1.3723 - val_accuracy: 0.6193\n",
      "Epoch 25/500\n",
      "3315/3315 [==============================] - 13s 4ms/step - loss: 1.3431 - accuracy: 0.6250 - val_loss: 1.3731 - val_accuracy: 0.6201\n",
      "Epoch 26/500\n",
      "3315/3315 [==============================] - 12s 3ms/step - loss: 1.3414 - accuracy: 0.6255 - val_loss: 1.3726 - val_accuracy: 0.6203\n",
      "Epoch 27/500\n",
      "3315/3315 [==============================] - 11s 3ms/step - loss: 1.3393 - accuracy: 0.6258 - val_loss: 1.3734 - val_accuracy: 0.6202\n",
      "Epoch 28/500\n",
      "3315/3315 [==============================] - 12s 4ms/step - loss: 1.3375 - accuracy: 0.6262 - val_loss: 1.3692 - val_accuracy: 0.6202\n",
      "Epoch 29/500\n",
      "3315/3315 [==============================] - 11s 3ms/step - loss: 1.3355 - accuracy: 0.6266 - val_loss: 1.3710 - val_accuracy: 0.6199\n",
      "Epoch 30/500\n",
      "3315/3315 [==============================] - 11s 3ms/step - loss: 1.3338 - accuracy: 0.6269 - val_loss: 1.3696 - val_accuracy: 0.6208\n",
      "Epoch 31/500\n",
      "3315/3315 [==============================] - 12s 3ms/step - loss: 1.3321 - accuracy: 0.6272 - val_loss: 1.3705 - val_accuracy: 0.6203\n",
      "Epoch 32/500\n",
      "3315/3315 [==============================] - 11s 3ms/step - loss: 1.3306 - accuracy: 0.6275 - val_loss: 1.3690 - val_accuracy: 0.6206\n",
      "Epoch 33/500\n",
      "3315/3315 [==============================] - 12s 3ms/step - loss: 1.3289 - accuracy: 0.6277 - val_loss: 1.3709 - val_accuracy: 0.6207\n",
      "Epoch 34/500\n",
      "3315/3315 [==============================] - 11s 3ms/step - loss: 1.3272 - accuracy: 0.6280 - val_loss: 1.3680 - val_accuracy: 0.6209\n",
      "Epoch 35/500\n",
      "3315/3315 [==============================] - 12s 4ms/step - loss: 1.3259 - accuracy: 0.6285 - val_loss: 1.3685 - val_accuracy: 0.6208\n",
      "Epoch 36/500\n",
      "3315/3315 [==============================] - 11s 3ms/step - loss: 1.3244 - accuracy: 0.6288 - val_loss: 1.3681 - val_accuracy: 0.6216\n",
      "Epoch 37/500\n",
      "3315/3315 [==============================] - 12s 4ms/step - loss: 1.3231 - accuracy: 0.6291 - val_loss: 1.3711 - val_accuracy: 0.6208\n",
      "Epoch 38/500\n",
      "3315/3315 [==============================] - 11s 3ms/step - loss: 1.3215 - accuracy: 0.6292 - val_loss: 1.3699 - val_accuracy: 0.6211\n",
      "Epoch 39/500\n",
      "3315/3315 [==============================] - 11s 3ms/step - loss: 1.3201 - accuracy: 0.6294 - val_loss: 1.3678 - val_accuracy: 0.6218\n",
      "Epoch 40/500\n",
      "3315/3315 [==============================] - 11s 3ms/step - loss: 1.3189 - accuracy: 0.6299 - val_loss: 1.3696 - val_accuracy: 0.6208\n",
      "Epoch 41/500\n",
      "3315/3315 [==============================] - 11s 3ms/step - loss: 1.3175 - accuracy: 0.6302 - val_loss: 1.3710 - val_accuracy: 0.6218\n",
      "Epoch 42/500\n",
      "3315/3315 [==============================] - 11s 3ms/step - loss: 1.3163 - accuracy: 0.6303 - val_loss: 1.3690 - val_accuracy: 0.6205\n",
      "Epoch 43/500\n",
      "3315/3315 [==============================] - 12s 3ms/step - loss: 1.3151 - accuracy: 0.6306 - val_loss: 1.3701 - val_accuracy: 0.6215\n",
      "Epoch 44/500\n",
      "3315/3315 [==============================] - 12s 4ms/step - loss: 1.3140 - accuracy: 0.6307 - val_loss: 1.3682 - val_accuracy: 0.6205\n",
      "Epoch 45/500\n",
      "3315/3315 [==============================] - 11s 3ms/step - loss: 1.3128 - accuracy: 0.6311 - val_loss: 1.3683 - val_accuracy: 0.6223\n",
      "Epoch 46/500\n",
      "3315/3315 [==============================] - 11s 3ms/step - loss: 1.3114 - accuracy: 0.6313 - val_loss: 1.3706 - val_accuracy: 0.6214\n",
      "Epoch 47/500\n",
      "3315/3315 [==============================] - 12s 4ms/step - loss: 1.3104 - accuracy: 0.6316 - val_loss: 1.3716 - val_accuracy: 0.6212\n",
      "Epoch 48/500\n",
      "3315/3315 [==============================] - 12s 4ms/step - loss: 1.3093 - accuracy: 0.6318 - val_loss: 1.3690 - val_accuracy: 0.6217\n",
      "Epoch 49/500\n",
      "3315/3315 [==============================] - 11s 3ms/step - loss: 1.3084 - accuracy: 0.6321 - val_loss: 1.3706 - val_accuracy: 0.6214\n",
      "Epoch 50/500\n",
      "3315/3315 [==============================] - 11s 3ms/step - loss: 1.3073 - accuracy: 0.6322 - val_loss: 1.3711 - val_accuracy: 0.6206\n",
      "Epoch 51/500\n",
      "3315/3315 [==============================] - 11s 3ms/step - loss: 1.3064 - accuracy: 0.6327 - val_loss: 1.3713 - val_accuracy: 0.6210\n",
      "Epoch 52/500\n",
      "3315/3315 [==============================] - 11s 3ms/step - loss: 1.3055 - accuracy: 0.6325 - val_loss: 1.3728 - val_accuracy: 0.6216\n",
      "Epoch 53/500\n",
      "3315/3315 [==============================] - 11s 3ms/step - loss: 1.3044 - accuracy: 0.6329 - val_loss: 1.3714 - val_accuracy: 0.6212\n",
      "Epoch 54/500\n",
      "3315/3315 [==============================] - 12s 4ms/step - loss: 1.3036 - accuracy: 0.6330 - val_loss: 1.3723 - val_accuracy: 0.6203\n",
      "Epoch 55/500\n",
      "3315/3315 [==============================] - 11s 3ms/step - loss: 1.3029 - accuracy: 0.6331 - val_loss: 1.3700 - val_accuracy: 0.6211\n",
      "Epoch 56/500\n",
      "3315/3315 [==============================] - 11s 3ms/step - loss: 1.3018 - accuracy: 0.6334 - val_loss: 1.3725 - val_accuracy: 0.6209\n",
      "Epoch 57/500\n",
      "3315/3315 [==============================] - 11s 3ms/step - loss: 1.3010 - accuracy: 0.6335 - val_loss: 1.3716 - val_accuracy: 0.6208\n",
      "Epoch 58/500\n",
      "3315/3315 [==============================] - 11s 3ms/step - loss: 1.3001 - accuracy: 0.6338 - val_loss: 1.3735 - val_accuracy: 0.6200\n",
      "Epoch 59/500\n",
      "3315/3315 [==============================] - 11s 3ms/step - loss: 1.2992 - accuracy: 0.6340 - val_loss: 1.3726 - val_accuracy: 0.6210\n",
      "Epoch 60/500\n",
      "3315/3315 [==============================] - 12s 3ms/step - loss: 1.2984 - accuracy: 0.6342 - val_loss: 1.3755 - val_accuracy: 0.6208\n",
      "Epoch 61/500\n",
      "3315/3315 [==============================] - 11s 3ms/step - loss: 1.2979 - accuracy: 0.6343 - val_loss: 1.3744 - val_accuracy: 0.6207\n",
      "Epoch 62/500\n",
      "3315/3315 [==============================] - 11s 3ms/step - loss: 1.2969 - accuracy: 0.6344 - val_loss: 1.3753 - val_accuracy: 0.6206\n",
      "Epoch 63/500\n",
      "3315/3315 [==============================] - 11s 3ms/step - loss: 1.2962 - accuracy: 0.6344 - val_loss: 1.3739 - val_accuracy: 0.6203\n",
      "Epoch 64/500\n",
      "3315/3315 [==============================] - 11s 3ms/step - loss: 1.2954 - accuracy: 0.6347 - val_loss: 1.3742 - val_accuracy: 0.6196\n",
      "Epoch 65/500\n",
      "3315/3315 [==============================] - 11s 3ms/step - loss: 1.2946 - accuracy: 0.6349 - val_loss: 1.3758 - val_accuracy: 0.6205\n",
      "Epoch 66/500\n",
      "3315/3315 [==============================] - 12s 3ms/step - loss: 1.2940 - accuracy: 0.6351 - val_loss: 1.3738 - val_accuracy: 0.6203\n",
      "Epoch 67/500\n",
      "3315/3315 [==============================] - 11s 3ms/step - loss: 1.2930 - accuracy: 0.6352 - val_loss: 1.3763 - val_accuracy: 0.6213\n",
      "Epoch 68/500\n",
      "3315/3315 [==============================] - 11s 3ms/step - loss: 1.2925 - accuracy: 0.6353 - val_loss: 1.3772 - val_accuracy: 0.6208\n",
      "Epoch 69/500\n",
      "3315/3315 [==============================] - 11s 3ms/step - loss: 1.2920 - accuracy: 0.6355 - val_loss: 1.3752 - val_accuracy: 0.6209\n",
      "Epoch 70/500\n",
      "3315/3315 [==============================] - 11s 3ms/step - loss: 1.2909 - accuracy: 0.6356 - val_loss: 1.3760 - val_accuracy: 0.6201\n",
      "Epoch 71/500\n",
      "3315/3315 [==============================] - 12s 3ms/step - loss: 1.2903 - accuracy: 0.6358 - val_loss: 1.3808 - val_accuracy: 0.6203\n",
      "Epoch 72/500\n",
      "3315/3315 [==============================] - 11s 3ms/step - loss: 1.2899 - accuracy: 0.6360 - val_loss: 1.3771 - val_accuracy: 0.6199\n",
      "Epoch 73/500\n",
      "3315/3315 [==============================] - 11s 3ms/step - loss: 1.2891 - accuracy: 0.6361 - val_loss: 1.3764 - val_accuracy: 0.6207\n",
      "Epoch 74/500\n",
      "3315/3315 [==============================] - 11s 3ms/step - loss: 1.2887 - accuracy: 0.6361 - val_loss: 1.3775 - val_accuracy: 0.6203\n",
      "Epoch 75/500\n",
      "3315/3315 [==============================] - 11s 3ms/step - loss: 1.2880 - accuracy: 0.6364 - val_loss: 1.3771 - val_accuracy: 0.6206\n",
      "Epoch 76/500\n",
      "3315/3315 [==============================] - 11s 3ms/step - loss: 1.2872 - accuracy: 0.6364 - val_loss: 1.3806 - val_accuracy: 0.6204\n",
      "Epoch 77/500\n",
      "3315/3315 [==============================] - 12s 3ms/step - loss: 1.2867 - accuracy: 0.6364 - val_loss: 1.3799 - val_accuracy: 0.6202\n",
      "Epoch 78/500\n",
      "3315/3315 [==============================] - 11s 3ms/step - loss: 1.2862 - accuracy: 0.6368 - val_loss: 1.3795 - val_accuracy: 0.6209\n",
      "Epoch 79/500\n",
      "3315/3315 [==============================] - 11s 3ms/step - loss: 1.2855 - accuracy: 0.6368 - val_loss: 1.3811 - val_accuracy: 0.6206\n",
      "Epoch 80/500\n",
      "3315/3315 [==============================] - 12s 4ms/step - loss: 1.2851 - accuracy: 0.6367 - val_loss: 1.3820 - val_accuracy: 0.6204\n",
      "Epoch 81/500\n",
      "3315/3315 [==============================] - 12s 4ms/step - loss: 1.2844 - accuracy: 0.6370 - val_loss: 1.3797 - val_accuracy: 0.6197\n",
      "Epoch 82/500\n",
      "3315/3315 [==============================] - 13s 4ms/step - loss: 1.2839 - accuracy: 0.6372 - val_loss: 1.3799 - val_accuracy: 0.6202\n",
      "Epoch 83/500\n",
      "3315/3315 [==============================] - 15s 5ms/step - loss: 1.2835 - accuracy: 0.6375 - val_loss: 1.3811 - val_accuracy: 0.6205\n",
      "Epoch 84/500\n",
      "3315/3315 [==============================] - 12s 4ms/step - loss: 1.2827 - accuracy: 0.6374 - val_loss: 1.3854 - val_accuracy: 0.6193\n",
      "Epoch 85/500\n",
      "3315/3315 [==============================] - 12s 3ms/step - loss: 1.2824 - accuracy: 0.6376 - val_loss: 1.3824 - val_accuracy: 0.6193\n",
      "Epoch 86/500\n",
      "3315/3315 [==============================] - 11s 3ms/step - loss: 1.2818 - accuracy: 0.6376 - val_loss: 1.3858 - val_accuracy: 0.6197\n",
      "Epoch 87/500\n",
      "3315/3315 [==============================] - 12s 3ms/step - loss: 1.2814 - accuracy: 0.6377 - val_loss: 1.3835 - val_accuracy: 0.6199\n",
      "Epoch 88/500\n",
      "3315/3315 [==============================] - 12s 4ms/step - loss: 1.2810 - accuracy: 0.6381 - val_loss: 1.3850 - val_accuracy: 0.6197\n",
      "Epoch 89/500\n",
      "3315/3315 [==============================] - 11s 3ms/step - loss: 1.2806 - accuracy: 0.6379 - val_loss: 1.3820 - val_accuracy: 0.6196\n",
      "Epoch 90/500\n",
      "3315/3315 [==============================] - 11s 3ms/step - loss: 1.2799 - accuracy: 0.6383 - val_loss: 1.3894 - val_accuracy: 0.6203\n",
      "Epoch 91/500\n",
      "3315/3315 [==============================] - 11s 3ms/step - loss: 1.2797 - accuracy: 0.6380 - val_loss: 1.3862 - val_accuracy: 0.6195\n",
      "Epoch 92/500\n",
      "3315/3315 [==============================] - 11s 3ms/step - loss: 1.2792 - accuracy: 0.6382 - val_loss: 1.3854 - val_accuracy: 0.6188\n",
      "Epoch 93/500\n",
      "3315/3315 [==============================] - 11s 3ms/step - loss: 1.2788 - accuracy: 0.6384 - val_loss: 1.3865 - val_accuracy: 0.6205\n",
      "Epoch 94/500\n",
      "3315/3315 [==============================] - 12s 4ms/step - loss: 1.2781 - accuracy: 0.6383 - val_loss: 1.3871 - val_accuracy: 0.6195\n",
      "Epoch 95/500\n",
      "3315/3315 [==============================] - 11s 3ms/step - loss: 1.2776 - accuracy: 0.6385 - val_loss: 1.3905 - val_accuracy: 0.6196\n",
      "Epoch 96/500\n",
      "3315/3315 [==============================] - 12s 4ms/step - loss: 1.2775 - accuracy: 0.6385 - val_loss: 1.3855 - val_accuracy: 0.6193\n",
      "Epoch 97/500\n",
      "3315/3315 [==============================] - 11s 3ms/step - loss: 1.2771 - accuracy: 0.6388 - val_loss: 1.3927 - val_accuracy: 0.6195\n",
      "Epoch 98/500\n",
      "3315/3315 [==============================] - 11s 3ms/step - loss: 1.2766 - accuracy: 0.6390 - val_loss: 1.3890 - val_accuracy: 0.6195\n",
      "Epoch 99/500\n",
      "3315/3315 [==============================] - 12s 3ms/step - loss: 1.2762 - accuracy: 0.6387 - val_loss: 1.3881 - val_accuracy: 0.6195\n",
      "Epoch 100/500\n",
      "3315/3315 [==============================] - 12s 3ms/step - loss: 1.2758 - accuracy: 0.6392 - val_loss: 1.3873 - val_accuracy: 0.6181\n",
      "Epoch 101/500\n",
      "3315/3315 [==============================] - 11s 3ms/step - loss: 1.2753 - accuracy: 0.6391 - val_loss: 1.3890 - val_accuracy: 0.6181\n",
      "Epoch 102/500\n",
      "3315/3315 [==============================] - 12s 4ms/step - loss: 1.2750 - accuracy: 0.6391 - val_loss: 1.3880 - val_accuracy: 0.6194\n",
      "Epoch 103/500\n",
      "3315/3315 [==============================] - 11s 3ms/step - loss: 1.2746 - accuracy: 0.6395 - val_loss: 1.3909 - val_accuracy: 0.6197\n",
      "Epoch 104/500\n",
      "3315/3315 [==============================] - 11s 3ms/step - loss: 1.2742 - accuracy: 0.6393 - val_loss: 1.3895 - val_accuracy: 0.6183\n",
      "Epoch 105/500\n",
      "3315/3315 [==============================] - 12s 4ms/step - loss: 1.2740 - accuracy: 0.6395 - val_loss: 1.3873 - val_accuracy: 0.6194\n",
      "Epoch 106/500\n",
      "3315/3315 [==============================] - 11s 3ms/step - loss: 1.2734 - accuracy: 0.6395 - val_loss: 1.3917 - val_accuracy: 0.6184\n",
      "Epoch 107/500\n",
      "3315/3315 [==============================] - 11s 3ms/step - loss: 1.2731 - accuracy: 0.6395 - val_loss: 1.3907 - val_accuracy: 0.6186\n",
      "Epoch 108/500\n",
      "3315/3315 [==============================] - 11s 3ms/step - loss: 1.2729 - accuracy: 0.6396 - val_loss: 1.3878 - val_accuracy: 0.6182\n",
      "Epoch 109/500\n",
      "3315/3315 [==============================] - 11s 3ms/step - loss: 1.2727 - accuracy: 0.6398 - val_loss: 1.3924 - val_accuracy: 0.6200\n",
      "Epoch 110/500\n",
      "3315/3315 [==============================] - 11s 3ms/step - loss: 1.2720 - accuracy: 0.6399 - val_loss: 1.3920 - val_accuracy: 0.6189\n",
      "Epoch 111/500\n",
      "3315/3315 [==============================] - 12s 4ms/step - loss: 1.2718 - accuracy: 0.6400 - val_loss: 1.3937 - val_accuracy: 0.6198\n",
      "Epoch 112/500\n",
      "3315/3315 [==============================] - 11s 3ms/step - loss: 1.2717 - accuracy: 0.6402 - val_loss: 1.3930 - val_accuracy: 0.6185\n",
      "Epoch 113/500\n",
      "3315/3315 [==============================] - 11s 3ms/step - loss: 1.2713 - accuracy: 0.6400 - val_loss: 1.3908 - val_accuracy: 0.6193\n",
      "Epoch 114/500\n",
      "3315/3315 [==============================] - 11s 3ms/step - loss: 1.2710 - accuracy: 0.6403 - val_loss: 1.3896 - val_accuracy: 0.6179\n",
      "Epoch 115/500\n",
      "3315/3315 [==============================] - 11s 3ms/step - loss: 1.2705 - accuracy: 0.6404 - val_loss: 1.3927 - val_accuracy: 0.6198\n",
      "Epoch 116/500\n",
      "3315/3315 [==============================] - 11s 3ms/step - loss: 1.2704 - accuracy: 0.6405 - val_loss: 1.3945 - val_accuracy: 0.6188\n",
      "Epoch 117/500\n",
      "3315/3315 [==============================] - 12s 3ms/step - loss: 1.2699 - accuracy: 0.6404 - val_loss: 1.3937 - val_accuracy: 0.6189\n",
      "Epoch 118/500\n",
      "3315/3315 [==============================] - 11s 3ms/step - loss: 1.2699 - accuracy: 0.6408 - val_loss: 1.3928 - val_accuracy: 0.6182\n",
      "Epoch 119/500\n",
      "3315/3315 [==============================] - 11s 3ms/step - loss: 1.2694 - accuracy: 0.6405 - val_loss: 1.3915 - val_accuracy: 0.6185\n",
      "Epoch 120/500\n",
      "3315/3315 [==============================] - 11s 3ms/step - loss: 1.2694 - accuracy: 0.6403 - val_loss: 1.3939 - val_accuracy: 0.6190\n",
      "Epoch 121/500\n",
      "3315/3315 [==============================] - 11s 3ms/step - loss: 1.2685 - accuracy: 0.6408 - val_loss: 1.3973 - val_accuracy: 0.6186\n",
      "Epoch 122/500\n",
      "3315/3315 [==============================] - 11s 3ms/step - loss: 1.2687 - accuracy: 0.6407 - val_loss: 1.3933 - val_accuracy: 0.6187\n",
      "Epoch 123/500\n",
      "3315/3315 [==============================] - 11s 3ms/step - loss: 1.2684 - accuracy: 0.6410 - val_loss: 1.3934 - val_accuracy: 0.6187\n",
      "Epoch 124/500\n",
      "3315/3315 [==============================] - 11s 3ms/step - loss: 1.2681 - accuracy: 0.6407 - val_loss: 1.3948 - val_accuracy: 0.6198\n",
      "Epoch 125/500\n",
      "3315/3315 [==============================] - 11s 3ms/step - loss: 1.2677 - accuracy: 0.6409 - val_loss: 1.3968 - val_accuracy: 0.6188\n",
      "Epoch 126/500\n",
      "3315/3315 [==============================] - 11s 3ms/step - loss: 1.2675 - accuracy: 0.6409 - val_loss: 1.3961 - val_accuracy: 0.6188\n",
      "Epoch 127/500\n",
      "3315/3315 [==============================] - 11s 3ms/step - loss: 1.2674 - accuracy: 0.6412 - val_loss: 1.3967 - val_accuracy: 0.6189\n",
      "Epoch 128/500\n",
      "3315/3315 [==============================] - 12s 3ms/step - loss: 1.2669 - accuracy: 0.6412 - val_loss: 1.3956 - val_accuracy: 0.6182\n",
      "Epoch 129/500\n",
      "3315/3315 [==============================] - 11s 3ms/step - loss: 1.2666 - accuracy: 0.6411 - val_loss: 1.4011 - val_accuracy: 0.6185\n",
      "Epoch 130/500\n",
      "3315/3315 [==============================] - 11s 3ms/step - loss: 1.2665 - accuracy: 0.6411 - val_loss: 1.3984 - val_accuracy: 0.6194\n",
      "Epoch 131/500\n",
      "3315/3315 [==============================] - 11s 3ms/step - loss: 1.2662 - accuracy: 0.6412 - val_loss: 1.3947 - val_accuracy: 0.6188\n",
      "Epoch 132/500\n",
      "3315/3315 [==============================] - 11s 3ms/step - loss: 1.2660 - accuracy: 0.6415 - val_loss: 1.3978 - val_accuracy: 0.6190\n",
      "Epoch 133/500\n",
      "3315/3315 [==============================] - 11s 3ms/step - loss: 1.2659 - accuracy: 0.6412 - val_loss: 1.4000 - val_accuracy: 0.6187\n",
      "Epoch 134/500\n",
      "3315/3315 [==============================] - 12s 3ms/step - loss: 1.2654 - accuracy: 0.6414 - val_loss: 1.3988 - val_accuracy: 0.6183\n",
      "Epoch 135/500\n",
      "3315/3315 [==============================] - 11s 3ms/step - loss: 1.2655 - accuracy: 0.6415 - val_loss: 1.3989 - val_accuracy: 0.6175\n",
      "Epoch 136/500\n",
      "3315/3315 [==============================] - 11s 3ms/step - loss: 1.2653 - accuracy: 0.6413 - val_loss: 1.3979 - val_accuracy: 0.6182\n",
      "Epoch 137/500\n",
      "3315/3315 [==============================] - 11s 3ms/step - loss: 1.2649 - accuracy: 0.6418 - val_loss: 1.3961 - val_accuracy: 0.6178\n",
      "Epoch 138/500\n",
      "3315/3315 [==============================] - 11s 3ms/step - loss: 1.2646 - accuracy: 0.6415 - val_loss: 1.3965 - val_accuracy: 0.6182\n",
      "Epoch 139/500\n",
      "3315/3315 [==============================] - 11s 3ms/step - loss: 1.2644 - accuracy: 0.6415 - val_loss: 1.4002 - val_accuracy: 0.6180\n",
      "Epoch 140/500\n",
      "3315/3315 [==============================] - 12s 3ms/step - loss: 1.2640 - accuracy: 0.6419 - val_loss: 1.4010 - val_accuracy: 0.6182\n",
      "Epoch 141/500\n",
      "3315/3315 [==============================] - 11s 3ms/step - loss: 1.2641 - accuracy: 0.6418 - val_loss: 1.3988 - val_accuracy: 0.6189\n",
      "Epoch 142/500\n",
      "3315/3315 [==============================] - 11s 3ms/step - loss: 1.2639 - accuracy: 0.6418 - val_loss: 1.4020 - val_accuracy: 0.6197\n",
      "Epoch 143/500\n",
      "3315/3315 [==============================] - 11s 3ms/step - loss: 1.2636 - accuracy: 0.6420 - val_loss: 1.3980 - val_accuracy: 0.6183\n",
      "Epoch 144/500\n",
      "3315/3315 [==============================] - 11s 3ms/step - loss: 1.2634 - accuracy: 0.6417 - val_loss: 1.4019 - val_accuracy: 0.6178\n",
      "Epoch 145/500\n",
      "3315/3315 [==============================] - 11s 3ms/step - loss: 1.2633 - accuracy: 0.6419 - val_loss: 1.4011 - val_accuracy: 0.6175\n",
      "Epoch 146/500\n",
      "3315/3315 [==============================] - 11s 3ms/step - loss: 1.2629 - accuracy: 0.6419 - val_loss: 1.4001 - val_accuracy: 0.6180\n",
      "Epoch 147/500\n",
      "3315/3315 [==============================] - 12s 3ms/step - loss: 1.2630 - accuracy: 0.6420 - val_loss: 1.4004 - val_accuracy: 0.6189\n",
      "Epoch 148/500\n",
      "3315/3315 [==============================] - 12s 4ms/step - loss: 1.2627 - accuracy: 0.6421 - val_loss: 1.4016 - val_accuracy: 0.6184\n",
      "Epoch 149/500\n",
      "3315/3315 [==============================] - 12s 4ms/step - loss: 1.2623 - accuracy: 0.6423 - val_loss: 1.3990 - val_accuracy: 0.6178\n",
      "Epoch 150/500\n",
      "3315/3315 [==============================] - 11s 3ms/step - loss: 1.2623 - accuracy: 0.6421 - val_loss: 1.4017 - val_accuracy: 0.6179\n",
      "Epoch 151/500\n",
      "3315/3315 [==============================] - 12s 3ms/step - loss: 1.2618 - accuracy: 0.6423 - val_loss: 1.4044 - val_accuracy: 0.6195\n",
      "Epoch 152/500\n",
      "3315/3315 [==============================] - 11s 3ms/step - loss: 1.2619 - accuracy: 0.6423 - val_loss: 1.4041 - val_accuracy: 0.6188\n",
      "Epoch 153/500\n",
      "3315/3315 [==============================] - 12s 4ms/step - loss: 1.2618 - accuracy: 0.6425 - val_loss: 1.4027 - val_accuracy: 0.6180\n",
      "Epoch 154/500\n",
      "3315/3315 [==============================] - 14s 4ms/step - loss: 1.2616 - accuracy: 0.6421 - val_loss: 1.4006 - val_accuracy: 0.6179\n",
      "Epoch 155/500\n",
      "3315/3315 [==============================] - 12s 4ms/step - loss: 1.2613 - accuracy: 0.6425 - val_loss: 1.4039 - val_accuracy: 0.6186\n",
      "Epoch 156/500\n",
      "3315/3315 [==============================] - 12s 4ms/step - loss: 1.2613 - accuracy: 0.6425 - val_loss: 1.4005 - val_accuracy: 0.6175\n",
      "Epoch 157/500\n",
      "3315/3315 [==============================] - 13s 4ms/step - loss: 1.2607 - accuracy: 0.6425 - val_loss: 1.4030 - val_accuracy: 0.6187\n",
      "Epoch 158/500\n",
      "3315/3315 [==============================] - 12s 4ms/step - loss: 1.2610 - accuracy: 0.6425 - val_loss: 1.4049 - val_accuracy: 0.6186\n",
      "Epoch 159/500\n",
      "3315/3315 [==============================] - 13s 4ms/step - loss: 1.2605 - accuracy: 0.6427 - val_loss: 1.4044 - val_accuracy: 0.6178\n",
      "Epoch 160/500\n",
      "3315/3315 [==============================] - 12s 4ms/step - loss: 1.2604 - accuracy: 0.6427 - val_loss: 1.4068 - val_accuracy: 0.6188\n",
      "Epoch 161/500\n",
      "3315/3315 [==============================] - 12s 4ms/step - loss: 1.2603 - accuracy: 0.6427 - val_loss: 1.4058 - val_accuracy: 0.6184\n",
      "Epoch 162/500\n",
      "3315/3315 [==============================] - 12s 4ms/step - loss: 1.2602 - accuracy: 0.6426 - val_loss: 1.4028 - val_accuracy: 0.6184\n",
      "Epoch 163/500\n",
      "3315/3315 [==============================] - 11s 3ms/step - loss: 1.2600 - accuracy: 0.6427 - val_loss: 1.4041 - val_accuracy: 0.6179\n",
      "Epoch 164/500\n",
      "3315/3315 [==============================] - 12s 4ms/step - loss: 1.2600 - accuracy: 0.6426 - val_loss: 1.4021 - val_accuracy: 0.6185\n",
      "Epoch 165/500\n",
      "3315/3315 [==============================] - 11s 3ms/step - loss: 1.2596 - accuracy: 0.6426 - val_loss: 1.4018 - val_accuracy: 0.6168\n"
     ]
    }
   ]
  },
  {
   "cell_type": "code",
   "execution_count": 235,
   "outputs": [
    {
     "data": {
      "text/plain": "[<matplotlib.lines.Line2D at 0x25252411360>]"
     },
     "execution_count": 235,
     "metadata": {},
     "output_type": "execute_result"
    },
    {
     "data": {
      "text/plain": "<Figure size 640x480 with 1 Axes>",
      "image/png": "[encoded data removed]"
     },
     "metadata": {},
     "output_type": "display_data"
    }
   ],
   "source": [
    "plt.plot(history.history['loss'])\n",
    "plt.plot(history.history['val_loss'], color='darkorange')"
   ],
   "metadata": {
    "collapsed": false,
    "ExecuteTime": {
     "end_time": "2023-12-06T10:45:52.866184500Z",
     "start_time": "2023-12-06T10:45:52.754081800Z"
    }
   }
  },
  {
   "cell_type": "code",
   "execution_count": 236,
   "outputs": [
    {
     "data": {
      "text/plain": "[<matplotlib.lines.Line2D at 0x252524598d0>]"
     },
     "execution_count": 236,
     "metadata": {},
     "output_type": "execute_result"
    },
    {
     "data": {
      "text/plain": "<Figure size 640x480 with 1 Axes>",
      "image/png": "[encoded data removed]"
     },
     "metadata": {},
     "output_type": "display_data"
    }
   ],
   "source": [
    "plt.plot(history.history['accuracy'])\n",
    "plt.plot(history.history['val_accuracy'], color='darkorange')"
   ],
   "metadata": {
    "collapsed": false,
    "ExecuteTime": {
     "end_time": "2023-12-06T10:45:56.428425400Z",
     "start_time": "2023-12-06T10:45:56.343346200Z"
    }
   }
  },
  {
   "cell_type": "markdown",
   "source": [
    "## Тестирование"
   ],
   "metadata": {
    "id": "7Z3NljQ4NPb8"
   }
  },
  {
   "cell_type": "code",
   "execution_count": 2,
   "outputs": [
    {
     "name": "stdout",
     "output_type": "stream",
     "text": [
      "WARNING:tensorflow:From C:\\Users\\krll\\Programming\\some_projects\\pythonProject\\venv\\lib\\site-packages\\keras\\src\\backend.py:1398: The name tf.executing_eagerly_outside_functions is deprecated. Please use tf.compat.v1.executing_eagerly_outside_functions instead.\n",
      "\n",
      "WARNING:tensorflow:From C:\\Users\\krll\\Programming\\some_projects\\pythonProject\\venv\\lib\\site-packages\\keras\\src\\optimizers\\__init__.py:309: The name tf.train.Optimizer is deprecated. Please use tf.compat.v1.train.Optimizer instead.\n",
      "\n"
     ]
    }
   ],
   "source": [
    "loaded_model = load_model('generator_20231206_134216.keras')"
   ],
   "metadata": {
    "collapsed": false,
    "ExecuteTime": {
     "end_time": "2023-12-06T17:43:48.651121800Z",
     "start_time": "2023-12-06T17:43:47.853396600Z"
    }
   }
  },
  {
   "cell_type": "code",
   "source": [
    "# Преобразует матричное представление обратно в слово\n",
    "def vector_to_word(vector):\n",
    "  word = ''\n",
    "  for v in vector:\n",
    "    idx = np.argmax(np.array(v))\n",
    "    if idx == 0:  break\n",
    "    word += index_to_char[idx]\n",
    "\n",
    "  return word"
   ],
   "metadata": {
    "id": "1Pj63uT-DPqH",
    "ExecuteTime": {
     "end_time": "2023-12-06T17:44:40.634599900Z",
     "start_time": "2023-12-06T17:44:40.630595800Z"
    }
   },
   "execution_count": 8,
   "outputs": []
  },
  {
   "cell_type": "code",
   "execution_count": 9,
   "outputs": [],
   "source": [
    "def get_predictions(inputs):\n",
    "  input_vectors = [word_to_vector(word_beginning) for word_beginning in inputs]\n",
    "  predictions = loaded_model.predict(np.array(input_vectors))\n",
    "  word_continuations = [vector_to_word(prediction) for prediction in predictions]\n",
    "\n",
    "  return word_continuations"
   ],
   "metadata": {
    "collapsed": false,
    "ExecuteTime": {
     "end_time": "2023-12-06T17:44:54.138885600Z",
     "start_time": "2023-12-06T17:44:54.131878500Z"
    }
   }
  },
  {
   "cell_type": "code",
   "source": [
    "def print_prediction(inputs):\n",
    "  word_continuations = get_predictions(inputs)\n",
    "  for word_beginning, word_continuation in zip(inputs, word_continuations):\n",
    "    print(f'{word_beginning}: {word_continuation}')"
   ],
   "metadata": {
    "id": "S4cAoYxnTJlP",
    "ExecuteTime": {
     "end_time": "2023-12-06T17:44:58.208588200Z",
     "start_time": "2023-12-06T17:44:58.202582Z"
    }
   },
   "execution_count": 10,
   "outputs": []
  },
  {
   "cell_type": "code",
   "source": [
    "test_inputs = ['пр', 'авт', 'че', 'само', 'ст', 'тел', 'поз', 'cл', 'а', 'гла', 'окр', 'дере', 'огуре']"
   ],
   "metadata": {
    "id": "aD1vn74UScTf",
    "ExecuteTime": {
     "end_time": "2023-12-06T17:45:00.072283200Z",
     "start_time": "2023-12-06T17:45:00.067278700Z"
    }
   },
   "execution_count": 11,
   "outputs": []
  },
  {
   "cell_type": "code",
   "source": [
    "print_prediction(test_inputs)"
   ],
   "metadata": {
    "colab": {
     "base_uri": "https://localhost:8080/"
    },
    "id": "sR9zsXwZTx2B",
    "outputId": "75ef5e4c-721a-4a9a-8bc7-4020f8d62041",
    "ExecuteTime": {
     "end_time": "2023-12-06T17:45:30.452921100Z",
     "start_time": "2023-12-06T17:45:29.753284300Z"
    }
   },
   "execution_count": 15,
   "outputs": [
    {
     "name": "stdout",
     "output_type": "stream",
     "text": [
      "1/1 [==============================] - 1s 655ms/step\n",
      "пр: осор\n",
      "авт: опаа\n",
      "че: рнон\n",
      "само: вор\n",
      "ст: ароа\n",
      "тел: ена\n",
      "поз: орн\n",
      "cл: оноа\n",
      "а: нтор\n",
      "гла: зин\n",
      "окр: авк\n",
      "дере: вен\n",
      "огуре: н\n"
     ]
    }
   ]
  },
  {
   "cell_type": "code",
   "execution_count": 17,
   "outputs": [
    {
     "data": {
      "text/plain": "Text(value='', description='Input:')",
      "application/vnd.jupyter.widget-view+json": {
       "version_major": 2,
       "version_minor": 0,
       "model_id": "bb16fe5b3cf9420f8d399b44ed1fc41f"
      }
     },
     "metadata": {},
     "output_type": "display_data"
    },
    {
     "data": {
      "text/plain": "Text(value='', description='Output:', disabled=True)",
      "application/vnd.jupyter.widget-view+json": {
       "version_major": 2,
       "version_minor": 0,
       "model_id": "024265cfedb74f6d8cd9484b461ae7c6"
      }
     },
     "metadata": {},
     "output_type": "display_data"
    }
   ],
   "source": [
    "def generate_text(input_text):\n",
    "  word_continuation = get_predictions([input_text])[0]\n",
    "  return input_text + word_continuation\n",
    "\n",
    "# Текстовое поле ввода\n",
    "input_text = widgets.Text(description='Input:')\n",
    "\n",
    "# Текстовое поле вывода\n",
    "output_text = widgets.Text(description='Output:', disabled=True)\n",
    "\n",
    "# Функция, которая вызывается при изменении текста в поле ввода\n",
    "def on_input_change(change):\n",
    "  user_input = change['new']\n",
    "  generated_text = generate_text(user_input)\n",
    "  output_text.value = generated_text\n",
    "\n",
    "input_text.observe(on_input_change, names='value')\n",
    "\n",
    "display(input_text, output_text)"
   ],
   "metadata": {
    "collapsed": false,
    "ExecuteTime": {
     "end_time": "2023-12-06T17:51:29.001141700Z",
     "start_time": "2023-12-06T17:51:28.988129800Z"
    }
   }
  },
  {
   "cell_type": "markdown",
   "source": [
    "## Сохранение результатов"
   ],
   "metadata": {
    "collapsed": false
   }
  },
  {
   "cell_type": "code",
   "execution_count": 292,
   "outputs": [],
   "source": [
    "def generate_word_beginnings(dataset):\n",
    "  word_beginnings = []\n",
    "  for word in dataset:\n",
    "    for i in range(1, 4):\n",
    "      word_beginnings.append(word[:i])\n",
    "\n",
    "  word_beginnings_set = set(word_beginnings)\n",
    "  word_beginnings = list(word_beginnings_set)\n",
    "  word_beginnings.sort()\n",
    "\n",
    "  return word_beginnings"
   ],
   "metadata": {
    "collapsed": false,
    "ExecuteTime": {
     "end_time": "2023-12-06T11:34:50.157750200Z",
     "start_time": "2023-12-06T11:34:50.139733500Z"
    }
   }
  },
  {
   "cell_type": "code",
   "execution_count": 293,
   "outputs": [
    {
     "name": "stdout",
     "output_type": "stream",
     "text": [
      "103/103 [==============================] - 0s 2ms/step\n"
     ]
    }
   ],
   "source": [
    "dataset_for_json = filter_dataset(full_dataset, 4, 13)\n",
    "\n",
    "inputs = generate_word_beginnings(dataset_for_json)\n",
    "outputs = get_predictions(inputs)\n",
    "\n",
    "data = []\n",
    "\n",
    "for inp, outp in zip(inputs, outputs):\n",
    "  entry = {\"Input\": inp, \"Output\": outp, \"Result\": inp+outp}\n",
    "  data.append(entry)\n",
    "\n",
    "with open(\"generator_result.json\", \"w\", encoding=\"utf-8\") as json_file:\n",
    "  json.dump(data, json_file, ensure_ascii=False, indent=2)"
   ],
   "metadata": {
    "collapsed": false,
    "ExecuteTime": {
     "end_time": "2023-12-06T11:34:54.087323900Z",
     "start_time": "2023-12-06T11:34:52.240644400Z"
    }
   }
  }
 ]
}
