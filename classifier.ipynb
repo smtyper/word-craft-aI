{
 "nbformat": 4,
 "nbformat_minor": 0,
 "metadata": {
  "colab": {
   "provenance": []
  },
  "kernelspec": {
   "name": "python3",
   "language": "python",
   "display_name": "Python 3 (ipykernel)"
  },
  "language_info": {
   "name": "python"
  }
 },
 "cells": [
  {
   "cell_type": "markdown",
   "source": [
    "![image.png](data:image/png;base64,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)"
   ],
   "metadata": {
    "id": "soXguCpl8LDD"
   }
  },
  {
   "cell_type": "markdown",
   "source": [
    "## Импорт библиотек"
   ],
   "metadata": {
    "id": "uUapIgvr_o5f"
   }
  },
  {
   "cell_type": "code",
   "execution_count": 26,
   "metadata": {
    "id": "o02M7fW-5dDG",
    "ExecuteTime": {
     "end_time": "2023-12-13T20:53:26.942593100Z",
     "start_time": "2023-12-13T20:53:26.924576900Z"
    }
   },
   "outputs": [],
   "source": [
    "import pandas as pd\n",
    "import numpy as np\n",
    "import matplotlib.pyplot as plt\n",
    "import re\n",
    "import random\n",
    "from datetime import datetime\n",
    "import json\n",
    "\n",
    "from keras.models import Sequential\n",
    "from keras.layers import LSTM, Dense\n",
    "from keras.utils import plot_model\n",
    "from keras.models import load_model\n",
    "\n",
    "from sklearn.model_selection import train_test_split"
   ]
  },
  {
   "cell_type": "markdown",
   "source": [
    "## Загрузка датасета"
   ],
   "metadata": {
    "id": "1XEvlmQX_uCr"
   }
  },
  {
   "cell_type": "code",
   "source": [
    "def load_dataset(csv_file_path):\n",
    "  df = pd.read_csv(csv_file_path, header=0, sep = \"\\t\")\n",
    "  words_column = df.iloc[:, 0]\n",
    "  words = [word.lower() for word in words_column.tolist()]\n",
    "\n",
    "  return words"
   ],
   "metadata": {
    "id": "Tklp_mh45-Md",
    "ExecuteTime": {
     "end_time": "2023-12-13T20:43:49.211308700Z",
     "start_time": "2023-12-13T20:43:49.205303400Z"
    }
   },
   "execution_count": 4,
   "outputs": []
  },
  {
   "cell_type": "code",
   "source": [
    "csv_file_path = 'nouns.csv'\n",
    "dataset = load_dataset(csv_file_path)\n",
    "\n",
    "print(dataset[:10])\n",
    "print(len(dataset))"
   ],
   "metadata": {
    "colab": {
     "base_uri": "https://localhost:8080/"
    },
    "id": "CrtU54qj6oSp",
    "outputId": "d80f9bde-7eec-485d-90f6-265aeffa16e5",
    "ExecuteTime": {
     "end_time": "2023-12-13T20:43:51.832693300Z",
     "start_time": "2023-12-13T20:43:51.640519100Z"
    }
   },
   "execution_count": 5,
   "outputs": [
    {
     "name": "stdout",
     "output_type": "stream",
     "text": [
      "['человек', 'год', 'время', 'рука', 'стать', 'дело', 'раз', 'глаз', 'день', 'жизнь']\n",
      "26982\n"
     ]
    }
   ]
  },
  {
   "cell_type": "markdown",
   "source": [
    "## Анализ датасета"
   ],
   "metadata": {
    "id": "_pmjEGLE_zFn"
   }
  },
  {
   "cell_type": "code",
   "source": [
    "df = pd.DataFrame({'word': dataset})\n",
    "df['word_length'] = df['word'].apply(len)\n",
    "df"
   ],
   "metadata": {
    "colab": {
     "base_uri": "https://localhost:8080/"
    },
    "id": "ziSc8IvN7DmN",
    "outputId": "41947e21-aabb-480c-ac84-5c4e0a7225f0",
    "ExecuteTime": {
     "end_time": "2023-12-13T20:43:56.058574200Z",
     "start_time": "2023-12-13T20:43:56.028546200Z"
    }
   },
   "execution_count": 6,
   "outputs": [
    {
     "data": {
      "text/plain": "              word  word_length\n0          человек            7\n1              год            3\n2            время            5\n3             рука            4\n4            стать            5\n...            ...          ...\n26977      ссыкуха            7\n26978  туроператор           11\n26979      валенок            7\n26980        бабло            5\n26981     бабломёт            8\n\n[26982 rows x 2 columns]",
      "text/html": "<div>\n<style scoped>\n    .dataframe tbody tr th:only-of-type {\n        vertical-align: middle;\n    }\n\n    .dataframe tbody tr th {\n        vertical-align: top;\n    }\n\n    .dataframe thead th {\n        text-align: right;\n    }\n</style>\n<table border=\"1\" class=\"dataframe\">\n  <thead>\n    <tr style=\"text-align: right;\">\n      <th></th>\n      <th>word</th>\n      <th>word_length</th>\n    </tr>\n  </thead>\n  <tbody>\n    <tr>\n      <th>0</th>\n      <td>человек</td>\n      <td>7</td>\n    </tr>\n    <tr>\n      <th>1</th>\n      <td>год</td>\n      <td>3</td>\n    </tr>\n    <tr>\n      <th>2</th>\n      <td>время</td>\n      <td>5</td>\n    </tr>\n    <tr>\n      <th>3</th>\n      <td>рука</td>\n      <td>4</td>\n    </tr>\n    <tr>\n      <th>4</th>\n      <td>стать</td>\n      <td>5</td>\n    </tr>\n    <tr>\n      <th>...</th>\n      <td>...</td>\n      <td>...</td>\n    </tr>\n    <tr>\n      <th>26977</th>\n      <td>ссыкуха</td>\n      <td>7</td>\n    </tr>\n    <tr>\n      <th>26978</th>\n      <td>туроператор</td>\n      <td>11</td>\n    </tr>\n    <tr>\n      <th>26979</th>\n      <td>валенок</td>\n      <td>7</td>\n    </tr>\n    <tr>\n      <th>26980</th>\n      <td>бабло</td>\n      <td>5</td>\n    </tr>\n    <tr>\n      <th>26981</th>\n      <td>бабломёт</td>\n      <td>8</td>\n    </tr>\n  </tbody>\n</table>\n<p>26982 rows × 2 columns</p>\n</div>"
     },
     "execution_count": 6,
     "metadata": {},
     "output_type": "execute_result"
    }
   ]
  },
  {
   "cell_type": "code",
   "source": [
    "plt.hist(df['word_length'], bins=range(1, max(df['word_length']) + 2), align='left', rwidth=0.8)\n",
    "plt.hist(df['word_length'][(df['word_length'] >= 3) & (df['word_length'] <= 15)], bins=range(1, max(df['word_length']) + 2), align='left', rwidth=0.8, color='darkorange')\n",
    "plt.xlabel('Длина слова')\n",
    "plt.ylabel('Количество слов')\n",
    "plt.title('Распределение длины слов в датасете')\n",
    "plt.show()"
   ],
   "metadata": {
    "colab": {
     "base_uri": "https://localhost:8080/"
    },
    "id": "nL9Kla7y-gGN",
    "outputId": "fcc44dbc-4690-4987-d464-bdf880c64c1a",
    "ExecuteTime": {
     "end_time": "2023-12-13T20:44:09.529864200Z",
     "start_time": "2023-12-13T20:44:09.401748Z"
    }
   },
   "execution_count": 7,
   "outputs": [
    {
     "data": {
      "text/plain": "<Figure size 640x480 with 1 Axes>",
      "image/png": "[encoded data removed]"
     },
     "metadata": {},
     "output_type": "display_data"
    }
   ]
  },
  {
   "cell_type": "code",
   "source": [
    "df[df['word_length'] < 3]['word']"
   ],
   "metadata": {
    "colab": {
     "base_uri": "https://localhost:8080/"
    },
    "id": "4_Dr93sM-DQE",
    "outputId": "e633b08e-2f4e-4ab7-8f98-d6f115c3ef60",
    "ExecuteTime": {
     "end_time": "2023-12-06T09:08:34.871071900Z",
     "start_time": "2023-12-06T09:08:34.839666100Z"
    }
   },
   "execution_count": 6,
   "outputs": [
    {
     "data": {
      "text/plain": "25       уж\n209      ум\n318      ах\n741      ус\n888      юг\n894      цк\n1541     ад\n1807     яд\n2048     па\n2121     ир\n2715     си\n3097     щи\n3150     ти\n3374     як\n4010     ил\n4162     кп\n4214     ёж\n4346     му\n4414     пи\n5125     ас\n5327     яр\n5666     ре\n5715     ук\n5856     аз\n6429     ар\n6500     цб\n6951     эн\n7212     кб\n7282     ша\n9196     эс\n10199    ош\n10390    эл\n11241    гб\n11281    эм\n11663    зи\n11839    ют\n12452    вт\n13037    яс\n13772    фа\n14366    бд\n14523    го\n14604    ор\n14605    че\n14645    ка\n14717    ер\n14910    ом\n26307    ст\n26399    ям\nName: word, dtype: object"
     },
     "execution_count": 6,
     "metadata": {},
     "output_type": "execute_result"
    }
   ]
  },
  {
   "cell_type": "code",
   "source": [
    "df[df['word_length'] > 20]['word']"
   ],
   "metadata": {
    "colab": {
     "base_uri": "https://localhost:8080/"
    },
    "id": "uwqhyUpC9M6T",
    "outputId": "edd836bb-8c0d-475d-9f4e-502a61376d3d",
    "ExecuteTime": {
     "end_time": "2023-12-06T09:08:36.968863100Z",
     "start_time": "2023-12-06T09:08:36.962857800Z"
    }
   },
   "execution_count": 7,
   "outputs": [
    {
     "data": {
      "text/plain": "6792          достопримечательность\n9117       высокопревосходительство\n10804         конкурентоспособность\n13917         самосовершенствование\n16168         взаимообусловленность\n17872      инженер-кораблестроитель\n19356         металлопромышленность\n19898        недисциплинированность\n20074        непредусмотрительность\n20164        неудовлетворительность\n20973         библиотека-передвижка\n21006       переосвидетельствование\n22766         светочувствительность\n23107         слесарь-водопроводчик\n23303        социалист-революционер\n24453        генерал-губернаторство\n24703    истребитель-бомбардировщик\n24704       истребитель-перехватчик\n26260      человеконенавистничество\nName: word, dtype: object"
     },
     "execution_count": 7,
     "metadata": {},
     "output_type": "execute_result"
    }
   ]
  },
  {
   "cell_type": "code",
   "source": [
    "duplicate_counts = df['word'].value_counts()\n",
    "duplicate_counts = duplicate_counts[duplicate_counts > 1]\n",
    "duplicate_counts"
   ],
   "metadata": {
    "colab": {
     "base_uri": "https://localhost:8080/"
    },
    "id": "jqo7xGJJCOT6",
    "outputId": "3702fd95-05b2-4a99-89af-f4ee38ad84d9",
    "ExecuteTime": {
     "end_time": "2023-12-06T09:08:38.753877400Z",
     "start_time": "2023-12-06T09:08:38.730854500Z"
    }
   },
   "execution_count": 8,
   "outputs": [
    {
     "data": {
      "text/plain": "мётчик            3\nвенец             2\nотступничество    2\nапокриф           2\nпремирование      2\n                 ..\nмастерок          2\nрэгги             2\nскорбут           2\nбасма             2\nострожник         2\nName: word, Length: 123, dtype: int64"
     },
     "execution_count": 8,
     "metadata": {},
     "output_type": "execute_result"
    }
   ]
  },
  {
   "cell_type": "markdown",
   "source": [
    "## Фильтрация датасета"
   ],
   "metadata": {
    "id": "NIHiGTkh_2vQ"
   }
  },
  {
   "cell_type": "code",
   "source": [
    "min_word_length = 3\n",
    "max_word_length = 15"
   ],
   "metadata": {
    "id": "hNG-8_dUC5Xf",
    "ExecuteTime": {
     "end_time": "2023-12-13T20:48:22.872166500Z",
     "start_time": "2023-12-13T20:48:22.866161Z"
    }
   },
   "execution_count": 17,
   "outputs": []
  },
  {
   "cell_type": "code",
   "source": [
    "def filter_dataset(dataset, min_length, max_length):\n",
    "  russian_alphabet_pattern = re.compile('[а-яё]+')\n",
    "  unique_words = set()\n",
    "\n",
    "  for word in dataset:\n",
    "    if min_length <= len(word) <= max_length and russian_alphabet_pattern.fullmatch(word) and word not in unique_words:\n",
    "      unique_words.add(word)\n",
    "\n",
    "  return list(unique_words)"
   ],
   "metadata": {
    "id": "R7wMgKMPDDGh",
    "ExecuteTime": {
     "end_time": "2023-12-06T09:09:13.306944800Z",
     "start_time": "2023-12-06T09:09:13.287151200Z"
    }
   },
   "execution_count": 11,
   "outputs": []
  },
  {
   "cell_type": "code",
   "source": [
    "dataset = filter_dataset(dataset, min_word_length, max_word_length)\n",
    "\n",
    "len(dataset)"
   ],
   "metadata": {
    "colab": {
     "base_uri": "https://localhost:8080/"
    },
    "id": "zLKJO0TI_9hL",
    "outputId": "02c9e668-c315-403d-9626-f92a8fa51b87",
    "ExecuteTime": {
     "end_time": "2023-12-06T09:09:15.056929200Z",
     "start_time": "2023-12-06T09:09:15.033024200Z"
    }
   },
   "execution_count": 12,
   "outputs": [
    {
     "data": {
      "text/plain": "26084"
     },
     "execution_count": 12,
     "metadata": {},
     "output_type": "execute_result"
    }
   ]
  },
  {
   "cell_type": "markdown",
   "source": [
    "## Подготовка данных для модели"
   ],
   "metadata": {
    "id": "HFUl2bLnHLeq"
   }
  },
  {
   "cell_type": "code",
   "source": [
    "alphabet = 'абвгдеёжзийклмнопрстуфхцчшщъыьэюя'"
   ],
   "metadata": {
    "id": "Fm6LaI3cYbzz",
    "ExecuteTime": {
     "end_time": "2023-12-13T20:48:13.522622900Z",
     "start_time": "2023-12-13T20:48:13.512613900Z"
    }
   },
   "execution_count": 13,
   "outputs": []
  },
  {
   "cell_type": "code",
   "source": [
    "# Создает one-hot вектор для символа\n",
    "def char_to_one_hot(char):\n",
    "  one_hot_vector = np.zeros(len(alphabet), dtype=int)\n",
    "  if char in alphabet:\n",
    "    one_hot_vector[alphabet.index(char)] = 1\n",
    "\n",
    "  return one_hot_vector.tolist()"
   ],
   "metadata": {
    "id": "tSomPfCFvStu",
    "ExecuteTime": {
     "end_time": "2023-12-13T20:48:14.257292Z",
     "start_time": "2023-12-13T20:48:14.251286100Z"
    }
   },
   "execution_count": 14,
   "outputs": []
  },
  {
   "cell_type": "code",
   "source": [
    "# Создает матричное представление для слова\n",
    "def word_to_vector(word):\n",
    "  padded_word = word.ljust(max_word_length, ' ')\n",
    "\n",
    "  return [char_to_one_hot(char) for char in padded_word]"
   ],
   "metadata": {
    "id": "NKoY1qw0fH1I",
    "ExecuteTime": {
     "end_time": "2023-12-13T20:48:15.441368200Z",
     "start_time": "2023-12-13T20:48:15.422350700Z"
    }
   },
   "execution_count": 15,
   "outputs": []
  },
  {
   "cell_type": "code",
   "source": [
    "# Генерирует случайную строку\n",
    "def generate_fake_word(min_length, max_length):\n",
    "  length = random.randint(min_length, max_length)\n",
    "  fake_word = ''.join(random.choice(alphabet) for _ in range(length))\n",
    "\n",
    "  return fake_word"
   ],
   "metadata": {
    "id": "qCkPajvrCec5",
    "ExecuteTime": {
     "end_time": "2023-12-13T20:48:19.547143800Z",
     "start_time": "2023-12-13T20:48:19.529126500Z"
    }
   },
   "execution_count": 16,
   "outputs": []
  },
  {
   "cell_type": "code",
   "source": [
    "fake_words = [generate_fake_word(min_word_length, max_word_length) for _ in range(len(dataset))]\n",
    "\n",
    "print(fake_words[0])\n",
    "print(len(fake_words))"
   ],
   "metadata": {
    "colab": {
     "base_uri": "https://localhost:8080/"
    },
    "id": "9TkAzg2CD3Ep",
    "outputId": "da9aa00f-4ba6-4479-d586-9c323962f672",
    "ExecuteTime": {
     "end_time": "2023-12-06T09:10:09.980829100Z",
     "start_time": "2023-12-06T09:10:09.899749Z"
    }
   },
   "execution_count": 22,
   "outputs": [
    {
     "name": "stdout",
     "output_type": "stream",
     "text": [
      "ппюдгэ\n",
      "26084\n"
     ]
    }
   ]
  },
  {
   "cell_type": "code",
   "source": [
    "X_data = [word_to_vector(word) for word in dataset + fake_words]\n",
    "y_data = [1] * len(dataset) + [0] * len(fake_words)\n",
    "\n",
    "len(X_data)"
   ],
   "metadata": {
    "colab": {
     "base_uri": "https://localhost:8080/"
    },
    "id": "L2MWlitxHPn8",
    "outputId": "20cabc08-e6d1-493f-a4f6-3e38bc32511b",
    "ExecuteTime": {
     "end_time": "2023-12-06T09:10:14.443207Z",
     "start_time": "2023-12-06T09:10:13.073960400Z"
    }
   },
   "execution_count": 23,
   "outputs": [
    {
     "data": {
      "text/plain": "52168"
     },
     "execution_count": 23,
     "metadata": {},
     "output_type": "execute_result"
    }
   ]
  },
  {
   "cell_type": "code",
   "source": [
    "# Разделение данных на обучающую и тестовую выборки\n",
    "X_train, X_test, y_train, y_test = train_test_split(X_data, y_data, test_size=0.2)"
   ],
   "metadata": {
    "id": "Cj_Mg7mvHW9C",
    "ExecuteTime": {
     "end_time": "2023-12-06T09:10:16.390909300Z",
     "start_time": "2023-12-06T09:10:16.360027800Z"
    }
   },
   "execution_count": 24,
   "outputs": []
  },
  {
   "cell_type": "code",
   "source": [
    "X_train_array = np.array(X_train)\n",
    "X_test_array = np.array(X_test)\n",
    "\n",
    "y_train_array = np.array(y_train)\n",
    "y_test_array = np.array(y_test)"
   ],
   "metadata": {
    "id": "HhXFzhOxdcuw",
    "ExecuteTime": {
     "end_time": "2023-12-06T09:10:19.414992900Z",
     "start_time": "2023-12-06T09:10:18.113889900Z"
    }
   },
   "execution_count": 25,
   "outputs": []
  },
  {
   "cell_type": "markdown",
   "source": [
    "## Создание модели классификатора"
   ],
   "metadata": {
    "id": "PQ911Nh-AOzr"
   }
  },
  {
   "cell_type": "code",
   "source": [
    "# Создание модели\n",
    "model = Sequential()\n",
    "model.add(LSTM(64, input_shape=(max_word_length, len(alphabet))))\n",
    "model.add(Dense(1, activation='sigmoid'))\n",
    "\n",
    "# Компиляция модели\n",
    "model.compile(loss='binary_crossentropy', optimizer='adam', metrics=['accuracy'])"
   ],
   "metadata": {
    "id": "WZXBZ77vARhg",
    "ExecuteTime": {
     "end_time": "2023-12-06T09:57:55.787107Z",
     "start_time": "2023-12-06T09:57:55.643977200Z"
    }
   },
   "execution_count": 106,
   "outputs": []
  },
  {
   "cell_type": "code",
   "execution_count": 30,
   "outputs": [
    {
     "data": {
      "image/png": "[encoded data removed]",
      "text/plain": "<IPython.core.display.Image object>"
     },
     "execution_count": 30,
     "metadata": {},
     "output_type": "execute_result"
    }
   ],
   "source": [
    "plot_model(model, show_shapes=True, show_layer_names=True)"
   ],
   "metadata": {
    "collapsed": false,
    "ExecuteTime": {
     "end_time": "2023-12-13T20:55:39.175014800Z",
     "start_time": "2023-12-13T20:55:38.876742900Z"
    }
   }
  },
  {
   "cell_type": "markdown",
   "source": [
    "## Обучение модели"
   ],
   "metadata": {
    "collapsed": false
   }
  },
  {
   "cell_type": "code",
   "execution_count": 108,
   "outputs": [
    {
     "name": "stdout",
     "output_type": "stream",
     "text": [
      "Epoch 1/15\n",
      "1305/1305 [==============================] - 5s 3ms/step - loss: 0.1821 - accuracy: 0.9251 - val_loss: 0.1424 - val_accuracy: 0.9428\n",
      "Epoch 2/15\n",
      "1305/1305 [==============================] - 4s 3ms/step - loss: 0.1228 - accuracy: 0.9511 - val_loss: 0.1110 - val_accuracy: 0.9577\n",
      "Epoch 3/15\n",
      "1305/1305 [==============================] - 4s 3ms/step - loss: 0.0935 - accuracy: 0.9640 - val_loss: 0.0794 - val_accuracy: 0.9692\n",
      "Epoch 4/15\n",
      "1305/1305 [==============================] - 4s 3ms/step - loss: 0.0770 - accuracy: 0.9710 - val_loss: 0.0834 - val_accuracy: 0.9681\n",
      "Epoch 5/15\n",
      "1305/1305 [==============================] - 4s 3ms/step - loss: 0.0698 - accuracy: 0.9731 - val_loss: 0.0721 - val_accuracy: 0.9694\n",
      "Epoch 6/15\n",
      "1305/1305 [==============================] - 4s 3ms/step - loss: 0.0660 - accuracy: 0.9751 - val_loss: 0.0683 - val_accuracy: 0.9728\n",
      "Epoch 7/15\n",
      "1305/1305 [==============================] - 4s 3ms/step - loss: 0.0605 - accuracy: 0.9770 - val_loss: 0.0622 - val_accuracy: 0.9761\n",
      "Epoch 8/15\n",
      "1305/1305 [==============================] - 4s 3ms/step - loss: 0.0575 - accuracy: 0.9776 - val_loss: 0.0642 - val_accuracy: 0.9755\n",
      "Epoch 9/15\n",
      "1305/1305 [==============================] - 4s 3ms/step - loss: 0.0547 - accuracy: 0.9791 - val_loss: 0.0605 - val_accuracy: 0.9753\n",
      "Epoch 10/15\n",
      "1305/1305 [==============================] - 4s 3ms/step - loss: 0.0512 - accuracy: 0.9807 - val_loss: 0.0625 - val_accuracy: 0.9753\n",
      "Epoch 11/15\n",
      "1305/1305 [==============================] - 4s 3ms/step - loss: 0.0493 - accuracy: 0.9813 - val_loss: 0.0548 - val_accuracy: 0.9789\n",
      "Epoch 12/15\n",
      "1305/1305 [==============================] - 4s 3ms/step - loss: 0.0467 - accuracy: 0.9824 - val_loss: 0.0588 - val_accuracy: 0.9786\n",
      "Epoch 13/15\n",
      "1305/1305 [==============================] - 4s 3ms/step - loss: 0.0447 - accuracy: 0.9833 - val_loss: 0.0574 - val_accuracy: 0.9757\n",
      "Epoch 14/15\n",
      "1305/1305 [==============================] - 4s 3ms/step - loss: 0.0429 - accuracy: 0.9833 - val_loss: 0.0589 - val_accuracy: 0.9772\n",
      "Epoch 15/15\n",
      "1305/1305 [==============================] - 4s 3ms/step - loss: 0.0403 - accuracy: 0.9848 - val_loss: 0.0592 - val_accuracy: 0.9785\n"
     ]
    }
   ],
   "source": [
    "# Обучение модели\n",
    "history = model.fit(X_train_array, y_train_array, epochs=15, batch_size=32, validation_data=(X_test_array, y_test_array))\n",
    "\n",
    "current_datetime = datetime.now().strftime(\"%Y%m%d_%H%M%S\")\n",
    "model.save(f'classifier_{current_datetime}.keras', overwrite=True)"
   ],
   "metadata": {
    "collapsed": false,
    "ExecuteTime": {
     "end_time": "2023-12-06T09:58:53.512621900Z",
     "start_time": "2023-12-06T09:57:57.407581800Z"
    }
   }
  },
  {
   "cell_type": "markdown",
   "source": [
    "## Оценка модели"
   ],
   "metadata": {
    "collapsed": false
   }
  },
  {
   "cell_type": "code",
   "execution_count": 109,
   "outputs": [
    {
     "name": "stdout",
     "output_type": "stream",
     "text": [
      "327/327 [==============================] - 0s 1ms/step - loss: 0.0592 - accuracy: 0.9785\n",
      "Точность модели на тестовых данных: 0.9785317182540894\n"
     ]
    }
   ],
   "source": [
    "accuracy = model.evaluate(X_test_array, y_test_array)[1]\n",
    "print(f'Точность модели на тестовых данных: {accuracy}')"
   ],
   "metadata": {
    "collapsed": false,
    "ExecuteTime": {
     "end_time": "2023-12-06T09:58:56.677501100Z",
     "start_time": "2023-12-06T09:58:56.193060900Z"
    }
   }
  },
  {
   "cell_type": "code",
   "execution_count": 110,
   "outputs": [
    {
     "data": {
      "text/plain": "[<matplotlib.lines.Line2D at 0x15e48a52710>]"
     },
     "execution_count": 110,
     "metadata": {},
     "output_type": "execute_result"
    },
    {
     "data": {
      "text/plain": "<Figure size 640x480 with 1 Axes>",
      "image/png": "[encoded data removed]"
     },
     "metadata": {},
     "output_type": "display_data"
    }
   ],
   "source": [
    "plt.plot(history.history['loss'])\n",
    "plt.plot(history.history['val_loss'], color='darkorange')"
   ],
   "metadata": {
    "collapsed": false,
    "ExecuteTime": {
     "end_time": "2023-12-06T09:58:58.423088800Z",
     "start_time": "2023-12-06T09:58:58.347021700Z"
    }
   }
  },
  {
   "cell_type": "code",
   "execution_count": 111,
   "outputs": [
    {
     "data": {
      "text/plain": "[<matplotlib.lines.Line2D at 0x15e4af39630>]"
     },
     "execution_count": 111,
     "metadata": {},
     "output_type": "execute_result"
    },
    {
     "data": {
      "text/plain": "<Figure size 640x480 with 1 Axes>",
      "image/png": "[encoded data removed]"
     },
     "metadata": {},
     "output_type": "display_data"
    }
   ],
   "source": [
    "plt.plot(history.history['accuracy'])\n",
    "plt.plot(history.history['val_accuracy'], color='darkorange')"
   ],
   "metadata": {
    "collapsed": false,
    "ExecuteTime": {
     "end_time": "2023-12-06T09:59:00.977413200Z",
     "start_time": "2023-12-06T09:59:00.897340800Z"
    }
   }
  },
  {
   "cell_type": "markdown",
   "source": [
    "## Тестирование"
   ],
   "metadata": {
    "collapsed": false
   }
  },
  {
   "cell_type": "code",
   "execution_count": 9,
   "outputs": [
    {
     "name": "stdout",
     "output_type": "stream",
     "text": [
      "WARNING:tensorflow:From C:\\Users\\krll\\Programming\\some_projects\\pythonProject\\venv\\lib\\site-packages\\keras\\src\\backend.py:1398: The name tf.executing_eagerly_outside_functions is deprecated. Please use tf.compat.v1.executing_eagerly_outside_functions instead.\n",
      "\n",
      "WARNING:tensorflow:From C:\\Users\\krll\\Programming\\some_projects\\pythonProject\\venv\\lib\\site-packages\\keras\\src\\optimizers\\__init__.py:309: The name tf.train.Optimizer is deprecated. Please use tf.compat.v1.train.Optimizer instead.\n",
      "\n"
     ]
    }
   ],
   "source": [
    "loaded_model = load_model('classifier_20231206_125853.keras')"
   ],
   "metadata": {
    "collapsed": false,
    "ExecuteTime": {
     "end_time": "2023-12-13T20:47:55.520061800Z",
     "start_time": "2023-12-13T20:47:54.977568200Z"
    }
   }
  },
  {
   "cell_type": "code",
   "execution_count": 18,
   "outputs": [],
   "source": [
    "def get_predictions(words_to_predict):\n",
    "  words_to_predict_vectors = [word_to_vector(word) for word in words_to_predict]\n",
    "  predictions = loaded_model.predict(np.array(words_to_predict_vectors))\n",
    "\n",
    "  return [prediction[0] for prediction in predictions]"
   ],
   "metadata": {
    "collapsed": false,
    "ExecuteTime": {
     "end_time": "2023-12-13T20:48:32.238725Z",
     "start_time": "2023-12-13T20:48:32.207696500Z"
    }
   }
  },
  {
   "cell_type": "code",
   "source": [
    "def print_prediction(words_to_predict):\n",
    "  predictions = get_predictions(words_to_predict)\n",
    "  for word, prediction in zip(words_to_predict, predictions):\n",
    "    print(f'{word}: {prediction}')"
   ],
   "metadata": {
    "id": "jD5b1eqvIO1w",
    "ExecuteTime": {
     "end_time": "2023-12-13T20:48:33.488862Z",
     "start_time": "2023-12-13T20:48:33.478852800Z"
    }
   },
   "execution_count": 19,
   "outputs": []
  },
  {
   "cell_type": "code",
   "source": [
    "fake_words_to_predict = [generate_fake_word(min_word_length, max_word_length) for _ in range(4)]\n",
    "print('Сгенерированные случайные наборы символов')\n",
    "print_prediction(fake_words_to_predict)\n",
    "\n",
    "real_words_to_predict = ['слово', 'телефон', 'интеллект', 'подушка']\n",
    "print('\\nРеальные слова')\n",
    "print_prediction(real_words_to_predict)\n",
    "\n",
    "input_words_to_predict = ['абвгд', 'щзорпа', 'опрвра', 'вапгшри']\n",
    "print('\\nСлучайные наборы символов, набранные вручную')\n",
    "print_prediction(input_words_to_predict)\n",
    "\n",
    "input_words_to_predict = ['атомия', 'активаст', 'амбия', 'гадан']\n",
    "print('\\n\"Слова\", сгенерированные прототипом генератора')\n",
    "print_prediction(input_words_to_predict)"
   ],
   "metadata": {
    "colab": {
     "base_uri": "https://localhost:8080/"
    },
    "id": "LZn1LBNQNVwD",
    "outputId": "72d99de3-4b97-427c-ec08-ee54af86c670",
    "ExecuteTime": {
     "end_time": "2023-12-13T20:48:39.531397700Z",
     "start_time": "2023-12-13T20:48:39.363244100Z"
    }
   },
   "execution_count": 21,
   "outputs": [
    {
     "name": "stdout",
     "output_type": "stream",
     "text": [
      "Сгенерированные случайные наборы символов\n",
      "1/1 [==============================] - 0s 14ms/step\n",
      "слсъе: 0.00038954985211603343\n",
      "гюш: 0.02477315627038479\n",
      "чфярм: 0.0065804822370409966\n",
      "мявлътюнбнюъэуй: 1.5261946828104556e-05\n",
      "\n",
      "Реальные слова\n",
      "1/1 [==============================] - 0s 15ms/step\n",
      "слово: 0.9945042729377747\n",
      "телефон: 0.9995988607406616\n",
      "интеллект: 0.9999576807022095\n",
      "подушка: 0.9999693036079407\n",
      "\n",
      "Случайные наборы символов, набранные вручную\n",
      "1/1 [==============================] - 0s 13ms/step\n",
      "абвгд: 0.011696855537593365\n",
      "щзорпа: 0.0020396022591739893\n",
      "опрвра: 0.03891933709383011\n",
      "вапгшри: 0.0025370039511471987\n",
      "\n",
      "\"Слова\", сгенерированные прототипом генератора\n",
      "1/1 [==============================] - 0s 15ms/step\n",
      "атомия: 0.9969674944877625\n",
      "активаст: 0.9999436140060425\n",
      "амбия: 0.9003759026527405\n",
      "гадан: 0.9913632869720459\n"
     ]
    }
   ]
  },
  {
   "cell_type": "markdown",
   "source": [
    "## Оценка результатов генератора"
   ],
   "metadata": {
    "collapsed": false
   }
  },
  {
   "cell_type": "code",
   "execution_count": 22,
   "outputs": [],
   "source": [
    "json_file_path = \"generator_result.json\"\n",
    "\n",
    "with open(json_file_path, \"r\", encoding=\"utf-8\") as json_file:\n",
    "    generator_data = json.load(json_file)"
   ],
   "metadata": {
    "collapsed": false,
    "ExecuteTime": {
     "end_time": "2023-12-13T20:49:23.123565200Z",
     "start_time": "2023-12-13T20:49:23.104547800Z"
    }
   }
  },
  {
   "cell_type": "code",
   "execution_count": 23,
   "outputs": [],
   "source": [
    "generator_results = [entry['Result'] for entry in generator_data]"
   ],
   "metadata": {
    "collapsed": false,
    "ExecuteTime": {
     "end_time": "2023-12-13T20:49:24.176523400Z",
     "start_time": "2023-12-13T20:49:24.170517100Z"
    }
   }
  },
  {
   "cell_type": "code",
   "execution_count": 24,
   "outputs": [
    {
     "name": "stdout",
     "output_type": "stream",
     "text": [
      "103/103 [==============================] - 0s 1ms/step\n"
     ]
    }
   ],
   "source": [
    "predictions_for_generator = get_predictions(generator_results)"
   ],
   "metadata": {
    "collapsed": false,
    "ExecuteTime": {
     "end_time": "2023-12-13T20:49:25.373612100Z",
     "start_time": "2023-12-13T20:49:25.035303600Z"
    }
   }
  },
  {
   "cell_type": "code",
   "execution_count": 136,
   "outputs": [],
   "source": [
    "data = []\n",
    "\n",
    "for entry, prediction in zip(generator_data, predictions_for_generator):\n",
    "  new_entry = {\"Input\": entry['Input'], \"Output\": entry['Output'], \"Result\": entry['Result'], \"Value\": float(prediction)}\n",
    "  data.append(new_entry)\n",
    "\n",
    "with open(\"classifier_result.json\", \"w\", encoding=\"utf-8\") as json_file:\n",
    "  json.dump(data, json_file, ensure_ascii=False, indent=2)"
   ],
   "metadata": {
    "collapsed": false,
    "ExecuteTime": {
     "end_time": "2023-12-06T11:58:36.714342300Z",
     "start_time": "2023-12-06T11:58:36.681312200Z"
    }
   }
  },
  {
   "cell_type": "code",
   "execution_count": 25,
   "outputs": [],
   "source": [
    "filtered_data = []\n",
    "\n",
    "for entry, prediction in zip(generator_data, predictions_for_generator):\n",
    "  if prediction >= 0.9:\n",
    "    new_entry = {\"Input\": entry['Input'], \"Output\": entry['Output'], \"Result\": entry['Result'], \"Value\": float(prediction)}\n",
    "    filtered_data.append(new_entry)\n",
    "\n",
    "with open(\"classifier_filtered_result.json\", \"w\", encoding=\"utf-8\") as json_file:\n",
    "    json.dump(filtered_data, json_file, ensure_ascii=False, indent=2)"
   ],
   "metadata": {
    "collapsed": false,
    "ExecuteTime": {
     "end_time": "2023-12-13T20:49:32.713367400Z",
     "start_time": "2023-12-13T20:49:32.569236800Z"
    }
   }
  }
 ]
}
